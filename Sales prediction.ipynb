{
 "cells": [
  {
   "cell_type": "markdown",
   "id": "70f5baa0",
   "metadata": {},
   "source": [
    "# Dataset link\n",
    "https://www.kaggle.com/datasets/aslanahmedov/walmart-sales-forecast"
   ]
  },
  {
   "cell_type": "code",
   "execution_count": 335,
   "id": "ae960682",
   "metadata": {},
   "outputs": [],
   "source": [
    "import numpy as np\n",
    "import pandas as pd\n",
    "import matplotlib.pyplot as plt\n",
    "import seaborn as sns\n"
   ]
  },
  {
   "cell_type": "markdown",
   "id": "bf8b74d8",
   "metadata": {},
   "source": [
    "# Loading dataset"
   ]
  },
  {
   "cell_type": "code",
   "execution_count": 336,
   "id": "c6741fd1",
   "metadata": {},
   "outputs": [],
   "source": [
    "train=pd.read_csv(\"D:\\\\MECS\\\\Internships\\\\Code clause\\\\Projects\\\\Data sets\\\\train.csv\")\n",
    "features=pd.read_csv(\"D:\\\\MECS\\\\Internships\\\\Code clause\\\\Projects\\\\Data sets\\\\features.csv\")\n",
    "stores=pd.read_csv(\"D:\\\\MECS\\\\Internships\\\\Code clause\\\\Projects\\\\Data sets\\\\stores.csv\")\n"
   ]
  },
  {
   "cell_type": "code",
   "execution_count": 337,
   "id": "3e7bb1c1",
   "metadata": {
    "scrolled": true
   },
   "outputs": [
    {
     "data": {
      "text/html": [
       "<div>\n",
       "<style scoped>\n",
       "    .dataframe tbody tr th:only-of-type {\n",
       "        vertical-align: middle;\n",
       "    }\n",
       "\n",
       "    .dataframe tbody tr th {\n",
       "        vertical-align: top;\n",
       "    }\n",
       "\n",
       "    .dataframe thead th {\n",
       "        text-align: right;\n",
       "    }\n",
       "</style>\n",
       "<table border=\"1\" class=\"dataframe\">\n",
       "  <thead>\n",
       "    <tr style=\"text-align: right;\">\n",
       "      <th></th>\n",
       "      <th>Store</th>\n",
       "      <th>Dept</th>\n",
       "      <th>Date</th>\n",
       "      <th>Weekly_Sales</th>\n",
       "      <th>IsHoliday</th>\n",
       "    </tr>\n",
       "  </thead>\n",
       "  <tbody>\n",
       "    <tr>\n",
       "      <th>0</th>\n",
       "      <td>1</td>\n",
       "      <td>1</td>\n",
       "      <td>2010-02-05</td>\n",
       "      <td>24924.50</td>\n",
       "      <td>False</td>\n",
       "    </tr>\n",
       "    <tr>\n",
       "      <th>1</th>\n",
       "      <td>1</td>\n",
       "      <td>1</td>\n",
       "      <td>2010-02-12</td>\n",
       "      <td>46039.49</td>\n",
       "      <td>True</td>\n",
       "    </tr>\n",
       "    <tr>\n",
       "      <th>2</th>\n",
       "      <td>1</td>\n",
       "      <td>1</td>\n",
       "      <td>2010-02-19</td>\n",
       "      <td>41595.55</td>\n",
       "      <td>False</td>\n",
       "    </tr>\n",
       "    <tr>\n",
       "      <th>3</th>\n",
       "      <td>1</td>\n",
       "      <td>1</td>\n",
       "      <td>2010-02-26</td>\n",
       "      <td>19403.54</td>\n",
       "      <td>False</td>\n",
       "    </tr>\n",
       "    <tr>\n",
       "      <th>4</th>\n",
       "      <td>1</td>\n",
       "      <td>1</td>\n",
       "      <td>2010-03-05</td>\n",
       "      <td>21827.90</td>\n",
       "      <td>False</td>\n",
       "    </tr>\n",
       "  </tbody>\n",
       "</table>\n",
       "</div>"
      ],
      "text/plain": [
       "   Store  Dept        Date  Weekly_Sales  IsHoliday\n",
       "0      1     1  2010-02-05      24924.50      False\n",
       "1      1     1  2010-02-12      46039.49       True\n",
       "2      1     1  2010-02-19      41595.55      False\n",
       "3      1     1  2010-02-26      19403.54      False\n",
       "4      1     1  2010-03-05      21827.90      False"
      ]
     },
     "execution_count": 337,
     "metadata": {},
     "output_type": "execute_result"
    }
   ],
   "source": [
    "train.head()"
   ]
  },
  {
   "cell_type": "code",
   "execution_count": 338,
   "id": "3badf082",
   "metadata": {},
   "outputs": [
    {
     "data": {
      "text/html": [
       "<div>\n",
       "<style scoped>\n",
       "    .dataframe tbody tr th:only-of-type {\n",
       "        vertical-align: middle;\n",
       "    }\n",
       "\n",
       "    .dataframe tbody tr th {\n",
       "        vertical-align: top;\n",
       "    }\n",
       "\n",
       "    .dataframe thead th {\n",
       "        text-align: right;\n",
       "    }\n",
       "</style>\n",
       "<table border=\"1\" class=\"dataframe\">\n",
       "  <thead>\n",
       "    <tr style=\"text-align: right;\">\n",
       "      <th></th>\n",
       "      <th>Store</th>\n",
       "      <th>Type</th>\n",
       "      <th>Size</th>\n",
       "    </tr>\n",
       "  </thead>\n",
       "  <tbody>\n",
       "    <tr>\n",
       "      <th>0</th>\n",
       "      <td>1</td>\n",
       "      <td>A</td>\n",
       "      <td>151315</td>\n",
       "    </tr>\n",
       "    <tr>\n",
       "      <th>1</th>\n",
       "      <td>2</td>\n",
       "      <td>A</td>\n",
       "      <td>202307</td>\n",
       "    </tr>\n",
       "    <tr>\n",
       "      <th>2</th>\n",
       "      <td>3</td>\n",
       "      <td>B</td>\n",
       "      <td>37392</td>\n",
       "    </tr>\n",
       "    <tr>\n",
       "      <th>3</th>\n",
       "      <td>4</td>\n",
       "      <td>A</td>\n",
       "      <td>205863</td>\n",
       "    </tr>\n",
       "    <tr>\n",
       "      <th>4</th>\n",
       "      <td>5</td>\n",
       "      <td>B</td>\n",
       "      <td>34875</td>\n",
       "    </tr>\n",
       "  </tbody>\n",
       "</table>\n",
       "</div>"
      ],
      "text/plain": [
       "   Store Type    Size\n",
       "0      1    A  151315\n",
       "1      2    A  202307\n",
       "2      3    B   37392\n",
       "3      4    A  205863\n",
       "4      5    B   34875"
      ]
     },
     "execution_count": 338,
     "metadata": {},
     "output_type": "execute_result"
    }
   ],
   "source": [
    "stores.head()"
   ]
  },
  {
   "cell_type": "code",
   "execution_count": 339,
   "id": "9baceec7",
   "metadata": {},
   "outputs": [
    {
     "data": {
      "text/html": [
       "<div>\n",
       "<style scoped>\n",
       "    .dataframe tbody tr th:only-of-type {\n",
       "        vertical-align: middle;\n",
       "    }\n",
       "\n",
       "    .dataframe tbody tr th {\n",
       "        vertical-align: top;\n",
       "    }\n",
       "\n",
       "    .dataframe thead th {\n",
       "        text-align: right;\n",
       "    }\n",
       "</style>\n",
       "<table border=\"1\" class=\"dataframe\">\n",
       "  <thead>\n",
       "    <tr style=\"text-align: right;\">\n",
       "      <th></th>\n",
       "      <th>Store</th>\n",
       "      <th>Date</th>\n",
       "      <th>Temperature</th>\n",
       "      <th>Fuel_Price</th>\n",
       "      <th>MarkDown1</th>\n",
       "      <th>MarkDown2</th>\n",
       "      <th>MarkDown3</th>\n",
       "      <th>MarkDown4</th>\n",
       "      <th>MarkDown5</th>\n",
       "      <th>CPI</th>\n",
       "      <th>Unemployment</th>\n",
       "      <th>IsHoliday</th>\n",
       "    </tr>\n",
       "  </thead>\n",
       "  <tbody>\n",
       "    <tr>\n",
       "      <th>0</th>\n",
       "      <td>1</td>\n",
       "      <td>2010-02-05</td>\n",
       "      <td>42.31</td>\n",
       "      <td>2.572</td>\n",
       "      <td>NaN</td>\n",
       "      <td>NaN</td>\n",
       "      <td>NaN</td>\n",
       "      <td>NaN</td>\n",
       "      <td>NaN</td>\n",
       "      <td>211.096358</td>\n",
       "      <td>8.106</td>\n",
       "      <td>False</td>\n",
       "    </tr>\n",
       "    <tr>\n",
       "      <th>1</th>\n",
       "      <td>1</td>\n",
       "      <td>2010-02-12</td>\n",
       "      <td>38.51</td>\n",
       "      <td>2.548</td>\n",
       "      <td>NaN</td>\n",
       "      <td>NaN</td>\n",
       "      <td>NaN</td>\n",
       "      <td>NaN</td>\n",
       "      <td>NaN</td>\n",
       "      <td>211.242170</td>\n",
       "      <td>8.106</td>\n",
       "      <td>True</td>\n",
       "    </tr>\n",
       "    <tr>\n",
       "      <th>2</th>\n",
       "      <td>1</td>\n",
       "      <td>2010-02-19</td>\n",
       "      <td>39.93</td>\n",
       "      <td>2.514</td>\n",
       "      <td>NaN</td>\n",
       "      <td>NaN</td>\n",
       "      <td>NaN</td>\n",
       "      <td>NaN</td>\n",
       "      <td>NaN</td>\n",
       "      <td>211.289143</td>\n",
       "      <td>8.106</td>\n",
       "      <td>False</td>\n",
       "    </tr>\n",
       "    <tr>\n",
       "      <th>3</th>\n",
       "      <td>1</td>\n",
       "      <td>2010-02-26</td>\n",
       "      <td>46.63</td>\n",
       "      <td>2.561</td>\n",
       "      <td>NaN</td>\n",
       "      <td>NaN</td>\n",
       "      <td>NaN</td>\n",
       "      <td>NaN</td>\n",
       "      <td>NaN</td>\n",
       "      <td>211.319643</td>\n",
       "      <td>8.106</td>\n",
       "      <td>False</td>\n",
       "    </tr>\n",
       "    <tr>\n",
       "      <th>4</th>\n",
       "      <td>1</td>\n",
       "      <td>2010-03-05</td>\n",
       "      <td>46.50</td>\n",
       "      <td>2.625</td>\n",
       "      <td>NaN</td>\n",
       "      <td>NaN</td>\n",
       "      <td>NaN</td>\n",
       "      <td>NaN</td>\n",
       "      <td>NaN</td>\n",
       "      <td>211.350143</td>\n",
       "      <td>8.106</td>\n",
       "      <td>False</td>\n",
       "    </tr>\n",
       "  </tbody>\n",
       "</table>\n",
       "</div>"
      ],
      "text/plain": [
       "   Store        Date  Temperature  Fuel_Price  MarkDown1  MarkDown2  \\\n",
       "0      1  2010-02-05        42.31       2.572        NaN        NaN   \n",
       "1      1  2010-02-12        38.51       2.548        NaN        NaN   \n",
       "2      1  2010-02-19        39.93       2.514        NaN        NaN   \n",
       "3      1  2010-02-26        46.63       2.561        NaN        NaN   \n",
       "4      1  2010-03-05        46.50       2.625        NaN        NaN   \n",
       "\n",
       "   MarkDown3  MarkDown4  MarkDown5         CPI  Unemployment  IsHoliday  \n",
       "0        NaN        NaN        NaN  211.096358         8.106      False  \n",
       "1        NaN        NaN        NaN  211.242170         8.106       True  \n",
       "2        NaN        NaN        NaN  211.289143         8.106      False  \n",
       "3        NaN        NaN        NaN  211.319643         8.106      False  \n",
       "4        NaN        NaN        NaN  211.350143         8.106      False  "
      ]
     },
     "execution_count": 339,
     "metadata": {},
     "output_type": "execute_result"
    }
   ],
   "source": [
    "features.head()"
   ]
  },
  {
   "cell_type": "markdown",
   "id": "ab030015",
   "metadata": {},
   "source": [
    "## Merging all features into one dataframe"
   ]
  },
  {
   "cell_type": "code",
   "execution_count": 340,
   "id": "4de95361",
   "metadata": {},
   "outputs": [],
   "source": [
    "df=train.merge(stores)\n",
    "df=df.merge(features)"
   ]
  },
  {
   "cell_type": "code",
   "execution_count": 341,
   "id": "8ab856b7",
   "metadata": {},
   "outputs": [
    {
     "data": {
      "text/html": [
       "<div>\n",
       "<style scoped>\n",
       "    .dataframe tbody tr th:only-of-type {\n",
       "        vertical-align: middle;\n",
       "    }\n",
       "\n",
       "    .dataframe tbody tr th {\n",
       "        vertical-align: top;\n",
       "    }\n",
       "\n",
       "    .dataframe thead th {\n",
       "        text-align: right;\n",
       "    }\n",
       "</style>\n",
       "<table border=\"1\" class=\"dataframe\">\n",
       "  <thead>\n",
       "    <tr style=\"text-align: right;\">\n",
       "      <th></th>\n",
       "      <th>Store</th>\n",
       "      <th>Dept</th>\n",
       "      <th>Date</th>\n",
       "      <th>Weekly_Sales</th>\n",
       "      <th>IsHoliday</th>\n",
       "      <th>Type</th>\n",
       "      <th>Size</th>\n",
       "      <th>Temperature</th>\n",
       "      <th>Fuel_Price</th>\n",
       "      <th>MarkDown1</th>\n",
       "      <th>MarkDown2</th>\n",
       "      <th>MarkDown3</th>\n",
       "      <th>MarkDown4</th>\n",
       "      <th>MarkDown5</th>\n",
       "      <th>CPI</th>\n",
       "      <th>Unemployment</th>\n",
       "    </tr>\n",
       "  </thead>\n",
       "  <tbody>\n",
       "    <tr>\n",
       "      <th>0</th>\n",
       "      <td>1</td>\n",
       "      <td>1</td>\n",
       "      <td>2010-02-05</td>\n",
       "      <td>24924.50</td>\n",
       "      <td>False</td>\n",
       "      <td>A</td>\n",
       "      <td>151315</td>\n",
       "      <td>42.31</td>\n",
       "      <td>2.572</td>\n",
       "      <td>NaN</td>\n",
       "      <td>NaN</td>\n",
       "      <td>NaN</td>\n",
       "      <td>NaN</td>\n",
       "      <td>NaN</td>\n",
       "      <td>211.096358</td>\n",
       "      <td>8.106</td>\n",
       "    </tr>\n",
       "    <tr>\n",
       "      <th>1</th>\n",
       "      <td>1</td>\n",
       "      <td>2</td>\n",
       "      <td>2010-02-05</td>\n",
       "      <td>50605.27</td>\n",
       "      <td>False</td>\n",
       "      <td>A</td>\n",
       "      <td>151315</td>\n",
       "      <td>42.31</td>\n",
       "      <td>2.572</td>\n",
       "      <td>NaN</td>\n",
       "      <td>NaN</td>\n",
       "      <td>NaN</td>\n",
       "      <td>NaN</td>\n",
       "      <td>NaN</td>\n",
       "      <td>211.096358</td>\n",
       "      <td>8.106</td>\n",
       "    </tr>\n",
       "    <tr>\n",
       "      <th>2</th>\n",
       "      <td>1</td>\n",
       "      <td>3</td>\n",
       "      <td>2010-02-05</td>\n",
       "      <td>13740.12</td>\n",
       "      <td>False</td>\n",
       "      <td>A</td>\n",
       "      <td>151315</td>\n",
       "      <td>42.31</td>\n",
       "      <td>2.572</td>\n",
       "      <td>NaN</td>\n",
       "      <td>NaN</td>\n",
       "      <td>NaN</td>\n",
       "      <td>NaN</td>\n",
       "      <td>NaN</td>\n",
       "      <td>211.096358</td>\n",
       "      <td>8.106</td>\n",
       "    </tr>\n",
       "    <tr>\n",
       "      <th>3</th>\n",
       "      <td>1</td>\n",
       "      <td>4</td>\n",
       "      <td>2010-02-05</td>\n",
       "      <td>39954.04</td>\n",
       "      <td>False</td>\n",
       "      <td>A</td>\n",
       "      <td>151315</td>\n",
       "      <td>42.31</td>\n",
       "      <td>2.572</td>\n",
       "      <td>NaN</td>\n",
       "      <td>NaN</td>\n",
       "      <td>NaN</td>\n",
       "      <td>NaN</td>\n",
       "      <td>NaN</td>\n",
       "      <td>211.096358</td>\n",
       "      <td>8.106</td>\n",
       "    </tr>\n",
       "    <tr>\n",
       "      <th>4</th>\n",
       "      <td>1</td>\n",
       "      <td>5</td>\n",
       "      <td>2010-02-05</td>\n",
       "      <td>32229.38</td>\n",
       "      <td>False</td>\n",
       "      <td>A</td>\n",
       "      <td>151315</td>\n",
       "      <td>42.31</td>\n",
       "      <td>2.572</td>\n",
       "      <td>NaN</td>\n",
       "      <td>NaN</td>\n",
       "      <td>NaN</td>\n",
       "      <td>NaN</td>\n",
       "      <td>NaN</td>\n",
       "      <td>211.096358</td>\n",
       "      <td>8.106</td>\n",
       "    </tr>\n",
       "    <tr>\n",
       "      <th>...</th>\n",
       "      <td>...</td>\n",
       "      <td>...</td>\n",
       "      <td>...</td>\n",
       "      <td>...</td>\n",
       "      <td>...</td>\n",
       "      <td>...</td>\n",
       "      <td>...</td>\n",
       "      <td>...</td>\n",
       "      <td>...</td>\n",
       "      <td>...</td>\n",
       "      <td>...</td>\n",
       "      <td>...</td>\n",
       "      <td>...</td>\n",
       "      <td>...</td>\n",
       "      <td>...</td>\n",
       "      <td>...</td>\n",
       "    </tr>\n",
       "    <tr>\n",
       "      <th>421565</th>\n",
       "      <td>45</td>\n",
       "      <td>93</td>\n",
       "      <td>2012-10-26</td>\n",
       "      <td>2487.80</td>\n",
       "      <td>False</td>\n",
       "      <td>B</td>\n",
       "      <td>118221</td>\n",
       "      <td>58.85</td>\n",
       "      <td>3.882</td>\n",
       "      <td>4018.91</td>\n",
       "      <td>58.08</td>\n",
       "      <td>100.0</td>\n",
       "      <td>211.94</td>\n",
       "      <td>858.33</td>\n",
       "      <td>192.308899</td>\n",
       "      <td>8.667</td>\n",
       "    </tr>\n",
       "    <tr>\n",
       "      <th>421566</th>\n",
       "      <td>45</td>\n",
       "      <td>94</td>\n",
       "      <td>2012-10-26</td>\n",
       "      <td>5203.31</td>\n",
       "      <td>False</td>\n",
       "      <td>B</td>\n",
       "      <td>118221</td>\n",
       "      <td>58.85</td>\n",
       "      <td>3.882</td>\n",
       "      <td>4018.91</td>\n",
       "      <td>58.08</td>\n",
       "      <td>100.0</td>\n",
       "      <td>211.94</td>\n",
       "      <td>858.33</td>\n",
       "      <td>192.308899</td>\n",
       "      <td>8.667</td>\n",
       "    </tr>\n",
       "    <tr>\n",
       "      <th>421567</th>\n",
       "      <td>45</td>\n",
       "      <td>95</td>\n",
       "      <td>2012-10-26</td>\n",
       "      <td>56017.47</td>\n",
       "      <td>False</td>\n",
       "      <td>B</td>\n",
       "      <td>118221</td>\n",
       "      <td>58.85</td>\n",
       "      <td>3.882</td>\n",
       "      <td>4018.91</td>\n",
       "      <td>58.08</td>\n",
       "      <td>100.0</td>\n",
       "      <td>211.94</td>\n",
       "      <td>858.33</td>\n",
       "      <td>192.308899</td>\n",
       "      <td>8.667</td>\n",
       "    </tr>\n",
       "    <tr>\n",
       "      <th>421568</th>\n",
       "      <td>45</td>\n",
       "      <td>97</td>\n",
       "      <td>2012-10-26</td>\n",
       "      <td>6817.48</td>\n",
       "      <td>False</td>\n",
       "      <td>B</td>\n",
       "      <td>118221</td>\n",
       "      <td>58.85</td>\n",
       "      <td>3.882</td>\n",
       "      <td>4018.91</td>\n",
       "      <td>58.08</td>\n",
       "      <td>100.0</td>\n",
       "      <td>211.94</td>\n",
       "      <td>858.33</td>\n",
       "      <td>192.308899</td>\n",
       "      <td>8.667</td>\n",
       "    </tr>\n",
       "    <tr>\n",
       "      <th>421569</th>\n",
       "      <td>45</td>\n",
       "      <td>98</td>\n",
       "      <td>2012-10-26</td>\n",
       "      <td>1076.80</td>\n",
       "      <td>False</td>\n",
       "      <td>B</td>\n",
       "      <td>118221</td>\n",
       "      <td>58.85</td>\n",
       "      <td>3.882</td>\n",
       "      <td>4018.91</td>\n",
       "      <td>58.08</td>\n",
       "      <td>100.0</td>\n",
       "      <td>211.94</td>\n",
       "      <td>858.33</td>\n",
       "      <td>192.308899</td>\n",
       "      <td>8.667</td>\n",
       "    </tr>\n",
       "  </tbody>\n",
       "</table>\n",
       "<p>421570 rows × 16 columns</p>\n",
       "</div>"
      ],
      "text/plain": [
       "        Store  Dept        Date  Weekly_Sales  IsHoliday Type    Size  \\\n",
       "0           1     1  2010-02-05      24924.50      False    A  151315   \n",
       "1           1     2  2010-02-05      50605.27      False    A  151315   \n",
       "2           1     3  2010-02-05      13740.12      False    A  151315   \n",
       "3           1     4  2010-02-05      39954.04      False    A  151315   \n",
       "4           1     5  2010-02-05      32229.38      False    A  151315   \n",
       "...       ...   ...         ...           ...        ...  ...     ...   \n",
       "421565     45    93  2012-10-26       2487.80      False    B  118221   \n",
       "421566     45    94  2012-10-26       5203.31      False    B  118221   \n",
       "421567     45    95  2012-10-26      56017.47      False    B  118221   \n",
       "421568     45    97  2012-10-26       6817.48      False    B  118221   \n",
       "421569     45    98  2012-10-26       1076.80      False    B  118221   \n",
       "\n",
       "        Temperature  Fuel_Price  MarkDown1  MarkDown2  MarkDown3  MarkDown4  \\\n",
       "0             42.31       2.572        NaN        NaN        NaN        NaN   \n",
       "1             42.31       2.572        NaN        NaN        NaN        NaN   \n",
       "2             42.31       2.572        NaN        NaN        NaN        NaN   \n",
       "3             42.31       2.572        NaN        NaN        NaN        NaN   \n",
       "4             42.31       2.572        NaN        NaN        NaN        NaN   \n",
       "...             ...         ...        ...        ...        ...        ...   \n",
       "421565        58.85       3.882    4018.91      58.08      100.0     211.94   \n",
       "421566        58.85       3.882    4018.91      58.08      100.0     211.94   \n",
       "421567        58.85       3.882    4018.91      58.08      100.0     211.94   \n",
       "421568        58.85       3.882    4018.91      58.08      100.0     211.94   \n",
       "421569        58.85       3.882    4018.91      58.08      100.0     211.94   \n",
       "\n",
       "        MarkDown5         CPI  Unemployment  \n",
       "0             NaN  211.096358         8.106  \n",
       "1             NaN  211.096358         8.106  \n",
       "2             NaN  211.096358         8.106  \n",
       "3             NaN  211.096358         8.106  \n",
       "4             NaN  211.096358         8.106  \n",
       "...           ...         ...           ...  \n",
       "421565     858.33  192.308899         8.667  \n",
       "421566     858.33  192.308899         8.667  \n",
       "421567     858.33  192.308899         8.667  \n",
       "421568     858.33  192.308899         8.667  \n",
       "421569     858.33  192.308899         8.667  \n",
       "\n",
       "[421570 rows x 16 columns]"
      ]
     },
     "execution_count": 341,
     "metadata": {},
     "output_type": "execute_result"
    }
   ],
   "source": [
    "df1=df\n",
    "df1"
   ]
  },
  {
   "cell_type": "code",
   "execution_count": 342,
   "id": "d8bdbde1",
   "metadata": {},
   "outputs": [
    {
     "data": {
      "text/plain": [
       "Store                0\n",
       "Dept                 0\n",
       "Date                 0\n",
       "Weekly_Sales         0\n",
       "IsHoliday            0\n",
       "Type                 0\n",
       "Size                 0\n",
       "Temperature          0\n",
       "Fuel_Price           0\n",
       "MarkDown1       270889\n",
       "MarkDown2       310322\n",
       "MarkDown3       284479\n",
       "MarkDown4       286603\n",
       "MarkDown5       270138\n",
       "CPI                  0\n",
       "Unemployment         0\n",
       "dtype: int64"
      ]
     },
     "execution_count": 342,
     "metadata": {},
     "output_type": "execute_result"
    }
   ],
   "source": [
    "df.isnull().sum()"
   ]
  },
  {
   "cell_type": "code",
   "execution_count": 343,
   "id": "c013f6f1",
   "metadata": {},
   "outputs": [],
   "source": [
    "df.dropna(inplace=True)"
   ]
  },
  {
   "cell_type": "code",
   "execution_count": 344,
   "id": "d6c90412",
   "metadata": {},
   "outputs": [
    {
     "data": {
      "text/html": [
       "<div>\n",
       "<style scoped>\n",
       "    .dataframe tbody tr th:only-of-type {\n",
       "        vertical-align: middle;\n",
       "    }\n",
       "\n",
       "    .dataframe tbody tr th {\n",
       "        vertical-align: top;\n",
       "    }\n",
       "\n",
       "    .dataframe thead th {\n",
       "        text-align: right;\n",
       "    }\n",
       "</style>\n",
       "<table border=\"1\" class=\"dataframe\">\n",
       "  <thead>\n",
       "    <tr style=\"text-align: right;\">\n",
       "      <th></th>\n",
       "      <th>Store</th>\n",
       "      <th>Dept</th>\n",
       "      <th>Date</th>\n",
       "      <th>Weekly_Sales</th>\n",
       "      <th>IsHoliday</th>\n",
       "      <th>Type</th>\n",
       "      <th>Size</th>\n",
       "      <th>Temperature</th>\n",
       "      <th>Fuel_Price</th>\n",
       "      <th>MarkDown1</th>\n",
       "      <th>MarkDown2</th>\n",
       "      <th>MarkDown3</th>\n",
       "      <th>MarkDown4</th>\n",
       "      <th>MarkDown5</th>\n",
       "      <th>CPI</th>\n",
       "      <th>Unemployment</th>\n",
       "    </tr>\n",
       "  </thead>\n",
       "  <tbody>\n",
       "    <tr>\n",
       "      <th>6587</th>\n",
       "      <td>1</td>\n",
       "      <td>1</td>\n",
       "      <td>2011-11-11</td>\n",
       "      <td>18689.54</td>\n",
       "      <td>False</td>\n",
       "      <td>A</td>\n",
       "      <td>151315</td>\n",
       "      <td>59.11</td>\n",
       "      <td>3.297</td>\n",
       "      <td>10382.90</td>\n",
       "      <td>6115.67</td>\n",
       "      <td>215.07</td>\n",
       "      <td>2406.62</td>\n",
       "      <td>6551.42</td>\n",
       "      <td>217.998085</td>\n",
       "      <td>7.866</td>\n",
       "    </tr>\n",
       "    <tr>\n",
       "      <th>6588</th>\n",
       "      <td>1</td>\n",
       "      <td>2</td>\n",
       "      <td>2011-11-11</td>\n",
       "      <td>44936.47</td>\n",
       "      <td>False</td>\n",
       "      <td>A</td>\n",
       "      <td>151315</td>\n",
       "      <td>59.11</td>\n",
       "      <td>3.297</td>\n",
       "      <td>10382.90</td>\n",
       "      <td>6115.67</td>\n",
       "      <td>215.07</td>\n",
       "      <td>2406.62</td>\n",
       "      <td>6551.42</td>\n",
       "      <td>217.998085</td>\n",
       "      <td>7.866</td>\n",
       "    </tr>\n",
       "    <tr>\n",
       "      <th>6589</th>\n",
       "      <td>1</td>\n",
       "      <td>3</td>\n",
       "      <td>2011-11-11</td>\n",
       "      <td>9959.64</td>\n",
       "      <td>False</td>\n",
       "      <td>A</td>\n",
       "      <td>151315</td>\n",
       "      <td>59.11</td>\n",
       "      <td>3.297</td>\n",
       "      <td>10382.90</td>\n",
       "      <td>6115.67</td>\n",
       "      <td>215.07</td>\n",
       "      <td>2406.62</td>\n",
       "      <td>6551.42</td>\n",
       "      <td>217.998085</td>\n",
       "      <td>7.866</td>\n",
       "    </tr>\n",
       "    <tr>\n",
       "      <th>6590</th>\n",
       "      <td>1</td>\n",
       "      <td>4</td>\n",
       "      <td>2011-11-11</td>\n",
       "      <td>36826.52</td>\n",
       "      <td>False</td>\n",
       "      <td>A</td>\n",
       "      <td>151315</td>\n",
       "      <td>59.11</td>\n",
       "      <td>3.297</td>\n",
       "      <td>10382.90</td>\n",
       "      <td>6115.67</td>\n",
       "      <td>215.07</td>\n",
       "      <td>2406.62</td>\n",
       "      <td>6551.42</td>\n",
       "      <td>217.998085</td>\n",
       "      <td>7.866</td>\n",
       "    </tr>\n",
       "    <tr>\n",
       "      <th>6591</th>\n",
       "      <td>1</td>\n",
       "      <td>5</td>\n",
       "      <td>2011-11-11</td>\n",
       "      <td>31002.65</td>\n",
       "      <td>False</td>\n",
       "      <td>A</td>\n",
       "      <td>151315</td>\n",
       "      <td>59.11</td>\n",
       "      <td>3.297</td>\n",
       "      <td>10382.90</td>\n",
       "      <td>6115.67</td>\n",
       "      <td>215.07</td>\n",
       "      <td>2406.62</td>\n",
       "      <td>6551.42</td>\n",
       "      <td>217.998085</td>\n",
       "      <td>7.866</td>\n",
       "    </tr>\n",
       "    <tr>\n",
       "      <th>...</th>\n",
       "      <td>...</td>\n",
       "      <td>...</td>\n",
       "      <td>...</td>\n",
       "      <td>...</td>\n",
       "      <td>...</td>\n",
       "      <td>...</td>\n",
       "      <td>...</td>\n",
       "      <td>...</td>\n",
       "      <td>...</td>\n",
       "      <td>...</td>\n",
       "      <td>...</td>\n",
       "      <td>...</td>\n",
       "      <td>...</td>\n",
       "      <td>...</td>\n",
       "      <td>...</td>\n",
       "      <td>...</td>\n",
       "    </tr>\n",
       "    <tr>\n",
       "      <th>421565</th>\n",
       "      <td>45</td>\n",
       "      <td>93</td>\n",
       "      <td>2012-10-26</td>\n",
       "      <td>2487.80</td>\n",
       "      <td>False</td>\n",
       "      <td>B</td>\n",
       "      <td>118221</td>\n",
       "      <td>58.85</td>\n",
       "      <td>3.882</td>\n",
       "      <td>4018.91</td>\n",
       "      <td>58.08</td>\n",
       "      <td>100.00</td>\n",
       "      <td>211.94</td>\n",
       "      <td>858.33</td>\n",
       "      <td>192.308899</td>\n",
       "      <td>8.667</td>\n",
       "    </tr>\n",
       "    <tr>\n",
       "      <th>421566</th>\n",
       "      <td>45</td>\n",
       "      <td>94</td>\n",
       "      <td>2012-10-26</td>\n",
       "      <td>5203.31</td>\n",
       "      <td>False</td>\n",
       "      <td>B</td>\n",
       "      <td>118221</td>\n",
       "      <td>58.85</td>\n",
       "      <td>3.882</td>\n",
       "      <td>4018.91</td>\n",
       "      <td>58.08</td>\n",
       "      <td>100.00</td>\n",
       "      <td>211.94</td>\n",
       "      <td>858.33</td>\n",
       "      <td>192.308899</td>\n",
       "      <td>8.667</td>\n",
       "    </tr>\n",
       "    <tr>\n",
       "      <th>421567</th>\n",
       "      <td>45</td>\n",
       "      <td>95</td>\n",
       "      <td>2012-10-26</td>\n",
       "      <td>56017.47</td>\n",
       "      <td>False</td>\n",
       "      <td>B</td>\n",
       "      <td>118221</td>\n",
       "      <td>58.85</td>\n",
       "      <td>3.882</td>\n",
       "      <td>4018.91</td>\n",
       "      <td>58.08</td>\n",
       "      <td>100.00</td>\n",
       "      <td>211.94</td>\n",
       "      <td>858.33</td>\n",
       "      <td>192.308899</td>\n",
       "      <td>8.667</td>\n",
       "    </tr>\n",
       "    <tr>\n",
       "      <th>421568</th>\n",
       "      <td>45</td>\n",
       "      <td>97</td>\n",
       "      <td>2012-10-26</td>\n",
       "      <td>6817.48</td>\n",
       "      <td>False</td>\n",
       "      <td>B</td>\n",
       "      <td>118221</td>\n",
       "      <td>58.85</td>\n",
       "      <td>3.882</td>\n",
       "      <td>4018.91</td>\n",
       "      <td>58.08</td>\n",
       "      <td>100.00</td>\n",
       "      <td>211.94</td>\n",
       "      <td>858.33</td>\n",
       "      <td>192.308899</td>\n",
       "      <td>8.667</td>\n",
       "    </tr>\n",
       "    <tr>\n",
       "      <th>421569</th>\n",
       "      <td>45</td>\n",
       "      <td>98</td>\n",
       "      <td>2012-10-26</td>\n",
       "      <td>1076.80</td>\n",
       "      <td>False</td>\n",
       "      <td>B</td>\n",
       "      <td>118221</td>\n",
       "      <td>58.85</td>\n",
       "      <td>3.882</td>\n",
       "      <td>4018.91</td>\n",
       "      <td>58.08</td>\n",
       "      <td>100.00</td>\n",
       "      <td>211.94</td>\n",
       "      <td>858.33</td>\n",
       "      <td>192.308899</td>\n",
       "      <td>8.667</td>\n",
       "    </tr>\n",
       "  </tbody>\n",
       "</table>\n",
       "<p>97056 rows × 16 columns</p>\n",
       "</div>"
      ],
      "text/plain": [
       "        Store  Dept        Date  Weekly_Sales  IsHoliday Type    Size  \\\n",
       "6587        1     1  2011-11-11      18689.54      False    A  151315   \n",
       "6588        1     2  2011-11-11      44936.47      False    A  151315   \n",
       "6589        1     3  2011-11-11       9959.64      False    A  151315   \n",
       "6590        1     4  2011-11-11      36826.52      False    A  151315   \n",
       "6591        1     5  2011-11-11      31002.65      False    A  151315   \n",
       "...       ...   ...         ...           ...        ...  ...     ...   \n",
       "421565     45    93  2012-10-26       2487.80      False    B  118221   \n",
       "421566     45    94  2012-10-26       5203.31      False    B  118221   \n",
       "421567     45    95  2012-10-26      56017.47      False    B  118221   \n",
       "421568     45    97  2012-10-26       6817.48      False    B  118221   \n",
       "421569     45    98  2012-10-26       1076.80      False    B  118221   \n",
       "\n",
       "        Temperature  Fuel_Price  MarkDown1  MarkDown2  MarkDown3  MarkDown4  \\\n",
       "6587          59.11       3.297   10382.90    6115.67     215.07    2406.62   \n",
       "6588          59.11       3.297   10382.90    6115.67     215.07    2406.62   \n",
       "6589          59.11       3.297   10382.90    6115.67     215.07    2406.62   \n",
       "6590          59.11       3.297   10382.90    6115.67     215.07    2406.62   \n",
       "6591          59.11       3.297   10382.90    6115.67     215.07    2406.62   \n",
       "...             ...         ...        ...        ...        ...        ...   \n",
       "421565        58.85       3.882    4018.91      58.08     100.00     211.94   \n",
       "421566        58.85       3.882    4018.91      58.08     100.00     211.94   \n",
       "421567        58.85       3.882    4018.91      58.08     100.00     211.94   \n",
       "421568        58.85       3.882    4018.91      58.08     100.00     211.94   \n",
       "421569        58.85       3.882    4018.91      58.08     100.00     211.94   \n",
       "\n",
       "        MarkDown5         CPI  Unemployment  \n",
       "6587      6551.42  217.998085         7.866  \n",
       "6588      6551.42  217.998085         7.866  \n",
       "6589      6551.42  217.998085         7.866  \n",
       "6590      6551.42  217.998085         7.866  \n",
       "6591      6551.42  217.998085         7.866  \n",
       "...           ...         ...           ...  \n",
       "421565     858.33  192.308899         8.667  \n",
       "421566     858.33  192.308899         8.667  \n",
       "421567     858.33  192.308899         8.667  \n",
       "421568     858.33  192.308899         8.667  \n",
       "421569     858.33  192.308899         8.667  \n",
       "\n",
       "[97056 rows x 16 columns]"
      ]
     },
     "execution_count": 344,
     "metadata": {},
     "output_type": "execute_result"
    }
   ],
   "source": [
    "df"
   ]
  },
  {
   "cell_type": "code",
   "execution_count": 345,
   "id": "65085858",
   "metadata": {},
   "outputs": [
    {
     "data": {
      "text/plain": [
       "6587      20111111.0\n",
       "6588      20111111.0\n",
       "6589      20111111.0\n",
       "6590      20111111.0\n",
       "6591      20111111.0\n",
       "             ...    \n",
       "421565    20121026.0\n",
       "421566    20121026.0\n",
       "421567    20121026.0\n",
       "421568    20121026.0\n",
       "421569    20121026.0\n",
       "Name: Date, Length: 97056, dtype: float64"
      ]
     },
     "execution_count": 345,
     "metadata": {},
     "output_type": "execute_result"
    }
   ],
   "source": [
    "df['Date']=df['Date'].str.replace('-','')\n",
    "df['Date']=df['Date'].astype(float)\n",
    "df['Date']"
   ]
  },
  {
   "cell_type": "code",
   "execution_count": 346,
   "id": "fb5dd9ba",
   "metadata": {},
   "outputs": [
    {
     "data": {
      "text/plain": [
       "Store              45\n",
       "Dept               81\n",
       "Date               48\n",
       "Weekly_Sales    91332\n",
       "IsHoliday           2\n",
       "Type                3\n",
       "Size               40\n",
       "Temperature      1110\n",
       "Fuel_Price        291\n",
       "MarkDown1        1395\n",
       "MarkDown2        1301\n",
       "MarkDown3        1194\n",
       "MarkDown4        1383\n",
       "MarkDown5        1394\n",
       "CPI               556\n",
       "Unemployment      134\n",
       "dtype: int64"
      ]
     },
     "execution_count": 346,
     "metadata": {},
     "output_type": "execute_result"
    }
   ],
   "source": [
    "df.nunique()"
   ]
  },
  {
   "cell_type": "code",
   "execution_count": 347,
   "id": "8f5c5974",
   "metadata": {},
   "outputs": [
    {
     "data": {
      "text/html": [
       "<div>\n",
       "<style scoped>\n",
       "    .dataframe tbody tr th:only-of-type {\n",
       "        vertical-align: middle;\n",
       "    }\n",
       "\n",
       "    .dataframe tbody tr th {\n",
       "        vertical-align: top;\n",
       "    }\n",
       "\n",
       "    .dataframe thead th {\n",
       "        text-align: right;\n",
       "    }\n",
       "</style>\n",
       "<table border=\"1\" class=\"dataframe\">\n",
       "  <thead>\n",
       "    <tr style=\"text-align: right;\">\n",
       "      <th></th>\n",
       "      <th>Store</th>\n",
       "      <th>Dept</th>\n",
       "      <th>Date</th>\n",
       "      <th>Weekly_Sales</th>\n",
       "      <th>Size</th>\n",
       "      <th>Temperature</th>\n",
       "      <th>Fuel_Price</th>\n",
       "      <th>MarkDown1</th>\n",
       "      <th>MarkDown2</th>\n",
       "      <th>MarkDown3</th>\n",
       "      <th>MarkDown4</th>\n",
       "      <th>MarkDown5</th>\n",
       "      <th>CPI</th>\n",
       "      <th>Unemployment</th>\n",
       "    </tr>\n",
       "  </thead>\n",
       "  <tbody>\n",
       "    <tr>\n",
       "      <th>count</th>\n",
       "      <td>97056.000000</td>\n",
       "      <td>97056.000000</td>\n",
       "      <td>9.705600e+04</td>\n",
       "      <td>97056.000000</td>\n",
       "      <td>97056.000000</td>\n",
       "      <td>97056.000000</td>\n",
       "      <td>97056.000000</td>\n",
       "      <td>97056.000000</td>\n",
       "      <td>97056.000000</td>\n",
       "      <td>97056.000000</td>\n",
       "      <td>97056.000000</td>\n",
       "      <td>97056.000000</td>\n",
       "      <td>97056.000000</td>\n",
       "      <td>97056.000000</td>\n",
       "    </tr>\n",
       "    <tr>\n",
       "      <th>mean</th>\n",
       "      <td>20.239408</td>\n",
       "      <td>44.278746</td>\n",
       "      <td>2.011871e+07</td>\n",
       "      <td>17857.195155</td>\n",
       "      <td>155229.302980</td>\n",
       "      <td>57.348331</td>\n",
       "      <td>3.618946</td>\n",
       "      <td>8841.260245</td>\n",
       "      <td>3693.532392</td>\n",
       "      <td>1816.629491</td>\n",
       "      <td>4025.923108</td>\n",
       "      <td>5310.830581</td>\n",
       "      <td>174.766754</td>\n",
       "      <td>7.414578</td>\n",
       "    </tr>\n",
       "    <tr>\n",
       "      <th>std</th>\n",
       "      <td>12.037946</td>\n",
       "      <td>30.119460</td>\n",
       "      <td>3.701188e+03</td>\n",
       "      <td>24732.104674</td>\n",
       "      <td>51201.162733</td>\n",
       "      <td>18.263734</td>\n",
       "      <td>0.280003</td>\n",
       "      <td>9258.091154</td>\n",
       "      <td>10058.901796</td>\n",
       "      <td>10989.284083</td>\n",
       "      <td>7173.060535</td>\n",
       "      <td>6535.397883</td>\n",
       "      <td>39.652638</td>\n",
       "      <td>1.708319</td>\n",
       "    </tr>\n",
       "    <tr>\n",
       "      <th>min</th>\n",
       "      <td>1.000000</td>\n",
       "      <td>1.000000</td>\n",
       "      <td>2.011111e+07</td>\n",
       "      <td>-1699.000000</td>\n",
       "      <td>34875.000000</td>\n",
       "      <td>7.460000</td>\n",
       "      <td>3.031000</td>\n",
       "      <td>32.500000</td>\n",
       "      <td>-265.760000</td>\n",
       "      <td>-29.100000</td>\n",
       "      <td>0.460000</td>\n",
       "      <td>170.640000</td>\n",
       "      <td>129.816710</td>\n",
       "      <td>4.077000</td>\n",
       "    </tr>\n",
       "    <tr>\n",
       "      <th>25%</th>\n",
       "      <td>10.000000</td>\n",
       "      <td>19.000000</td>\n",
       "      <td>2.012012e+07</td>\n",
       "      <td>2763.892500</td>\n",
       "      <td>119557.000000</td>\n",
       "      <td>42.750000</td>\n",
       "      <td>3.413000</td>\n",
       "      <td>3600.790000</td>\n",
       "      <td>47.550000</td>\n",
       "      <td>5.400000</td>\n",
       "      <td>605.880000</td>\n",
       "      <td>2383.670000</td>\n",
       "      <td>136.856419</td>\n",
       "      <td>6.392000</td>\n",
       "    </tr>\n",
       "    <tr>\n",
       "      <th>50%</th>\n",
       "      <td>20.000000</td>\n",
       "      <td>37.000000</td>\n",
       "      <td>2.012033e+07</td>\n",
       "      <td>8622.160000</td>\n",
       "      <td>155083.000000</td>\n",
       "      <td>57.950000</td>\n",
       "      <td>3.630000</td>\n",
       "      <td>6264.180000</td>\n",
       "      <td>192.000000</td>\n",
       "      <td>30.460000</td>\n",
       "      <td>1739.830000</td>\n",
       "      <td>3864.600000</td>\n",
       "      <td>189.194056</td>\n",
       "      <td>7.280000</td>\n",
       "    </tr>\n",
       "    <tr>\n",
       "      <th>75%</th>\n",
       "      <td>29.000000</td>\n",
       "      <td>72.000000</td>\n",
       "      <td>2.012072e+07</td>\n",
       "      <td>22740.542500</td>\n",
       "      <td>203742.000000</td>\n",
       "      <td>72.660000</td>\n",
       "      <td>3.820000</td>\n",
       "      <td>10333.240000</td>\n",
       "      <td>2551.320000</td>\n",
       "      <td>123.420000</td>\n",
       "      <td>4082.990000</td>\n",
       "      <td>6197.530000</td>\n",
       "      <td>219.355063</td>\n",
       "      <td>8.256000</td>\n",
       "    </tr>\n",
       "    <tr>\n",
       "      <th>max</th>\n",
       "      <td>45.000000</td>\n",
       "      <td>99.000000</td>\n",
       "      <td>2.012103e+07</td>\n",
       "      <td>630999.190000</td>\n",
       "      <td>219622.000000</td>\n",
       "      <td>95.910000</td>\n",
       "      <td>4.301000</td>\n",
       "      <td>88646.760000</td>\n",
       "      <td>104519.540000</td>\n",
       "      <td>141630.610000</td>\n",
       "      <td>67474.850000</td>\n",
       "      <td>108519.280000</td>\n",
       "      <td>227.036936</td>\n",
       "      <td>12.890000</td>\n",
       "    </tr>\n",
       "  </tbody>\n",
       "</table>\n",
       "</div>"
      ],
      "text/plain": [
       "              Store          Dept          Date   Weekly_Sales           Size  \\\n",
       "count  97056.000000  97056.000000  9.705600e+04   97056.000000   97056.000000   \n",
       "mean      20.239408     44.278746  2.011871e+07   17857.195155  155229.302980   \n",
       "std       12.037946     30.119460  3.701188e+03   24732.104674   51201.162733   \n",
       "min        1.000000      1.000000  2.011111e+07   -1699.000000   34875.000000   \n",
       "25%       10.000000     19.000000  2.012012e+07    2763.892500  119557.000000   \n",
       "50%       20.000000     37.000000  2.012033e+07    8622.160000  155083.000000   \n",
       "75%       29.000000     72.000000  2.012072e+07   22740.542500  203742.000000   \n",
       "max       45.000000     99.000000  2.012103e+07  630999.190000  219622.000000   \n",
       "\n",
       "        Temperature    Fuel_Price     MarkDown1      MarkDown2      MarkDown3  \\\n",
       "count  97056.000000  97056.000000  97056.000000   97056.000000   97056.000000   \n",
       "mean      57.348331      3.618946   8841.260245    3693.532392    1816.629491   \n",
       "std       18.263734      0.280003   9258.091154   10058.901796   10989.284083   \n",
       "min        7.460000      3.031000     32.500000    -265.760000     -29.100000   \n",
       "25%       42.750000      3.413000   3600.790000      47.550000       5.400000   \n",
       "50%       57.950000      3.630000   6264.180000     192.000000      30.460000   \n",
       "75%       72.660000      3.820000  10333.240000    2551.320000     123.420000   \n",
       "max       95.910000      4.301000  88646.760000  104519.540000  141630.610000   \n",
       "\n",
       "          MarkDown4      MarkDown5           CPI  Unemployment  \n",
       "count  97056.000000   97056.000000  97056.000000  97056.000000  \n",
       "mean    4025.923108    5310.830581    174.766754      7.414578  \n",
       "std     7173.060535    6535.397883     39.652638      1.708319  \n",
       "min        0.460000     170.640000    129.816710      4.077000  \n",
       "25%      605.880000    2383.670000    136.856419      6.392000  \n",
       "50%     1739.830000    3864.600000    189.194056      7.280000  \n",
       "75%     4082.990000    6197.530000    219.355063      8.256000  \n",
       "max    67474.850000  108519.280000    227.036936     12.890000  "
      ]
     },
     "execution_count": 347,
     "metadata": {},
     "output_type": "execute_result"
    }
   ],
   "source": [
    "df.describe()"
   ]
  },
  {
   "cell_type": "code",
   "execution_count": 348,
   "id": "07998b0d",
   "metadata": {},
   "outputs": [],
   "source": [
    "nums=df.select_dtypes(include='number')"
   ]
  },
  {
   "cell_type": "code",
   "execution_count": 349,
   "id": "7947859e",
   "metadata": {},
   "outputs": [
    {
     "data": {
      "image/png": "[encoded data removed]",
      "text/plain": [
       "<Figure size 640x480 with 1 Axes>"
      ]
     },
     "metadata": {},
     "output_type": "display_data"
    },
    {
     "data": {
      "image/png": "[encoded data removed]",
      "text/plain": [
       "<Figure size 640x480 with 1 Axes>"
      ]
     },
     "metadata": {},
     "output_type": "display_data"
    },
    {
     "data": {
      "image/png": "[encoded data removed]",
      "text/plain": [
       "<Figure size 640x480 with 1 Axes>"
      ]
     },
     "metadata": {},
     "output_type": "display_data"
    },
    {
     "data": {
      "image/png": "[encoded data removed]",
      "text/plain": [
       "<Figure size 640x480 with 1 Axes>"
      ]
     },
     "metadata": {},
     "output_type": "display_data"
    },
    {
     "data": {
      "image/png": "[encoded data removed]",
      "text/plain": [
       "<Figure size 640x480 with 1 Axes>"
      ]
     },
     "metadata": {},
     "output_type": "display_data"
    },
    {
     "data": {
      "image/png": "[encoded data removed]",
      "text/plain": [
       "<Figure size 640x480 with 1 Axes>"
      ]
     },
     "metadata": {},
     "output_type": "display_data"
    },
    {
     "data": {
      "image/png": "[encoded data removed]",
      "text/plain": [
       "<Figure size 640x480 with 1 Axes>"
      ]
     },
     "metadata": {},
     "output_type": "display_data"
    },
    {
     "data": {
      "image/png": "[encoded data removed]",
      "text/plain": [
       "<Figure size 640x480 with 1 Axes>"
      ]
     },
     "metadata": {},
     "output_type": "display_data"
    },
    {
     "data": {
      "image/png": "[encoded data removed]",
      "text/plain": [
       "<Figure size 640x480 with 1 Axes>"
      ]
     },
     "metadata": {},
     "output_type": "display_data"
    },
    {
     "data": {
      "image/png": "[encoded data removed]",
      "text/plain": [
       "<Figure size 640x480 with 1 Axes>"
      ]
     },
     "metadata": {},
     "output_type": "display_data"
    },
    {
     "data": {
      "image/png": "[encoded data removed]",
      "text/plain": [
       "<Figure size 640x480 with 1 Axes>"
      ]
     },
     "metadata": {},
     "output_type": "display_data"
    },
    {
     "data": {
      "image/png": "[encoded data removed]",
      "text/plain": [
       "<Figure size 640x480 with 1 Axes>"
      ]
     },
     "metadata": {},
     "output_type": "display_data"
    },
    {
     "data": {
      "image/png": "[encoded data removed]",
      "text/plain": [
       "<Figure size 640x480 with 1 Axes>"
      ]
     },
     "metadata": {},
     "output_type": "display_data"
    },
    {
     "data": {
      "image/png": "[encoded data removed]",
      "text/plain": [
       "<Figure size 640x480 with 1 Axes>"
      ]
     },
     "metadata": {},
     "output_type": "display_data"
    }
   ],
   "source": [
    "for i in nums.columns:\n",
    "    sns.boxplot(x=nums[i]) #for plotting boxplot of each attribute\n",
    "    plt.title(\"Boxplot for :\"  +i) #for giving name of the boxplot\n",
    "    plt.show() #for showing the plot"
   ]
  },
  {
   "cell_type": "markdown",
   "id": "9002b933",
   "metadata": {},
   "source": [
    "## Removing outliers"
   ]
  },
  {
   "cell_type": "code",
   "execution_count": 350,
   "id": "a8705b2f",
   "metadata": {},
   "outputs": [],
   "source": [
    "for it in nums.columns:  \n",
    "  Q1=nums[it].quantile(0.25) #25% quantile of the attribute\n",
    "  Q3=nums[it].quantile(0.75) #75% quantile of the attribute\n",
    "  IQR=Q3 - Q1 #interquartile range(difference of q1 and q3)\n",
    "  lower_bound=Q1 - 1.5 * IQR #lower bound of the attribute\n",
    "  upper_bound=Q3 + 1.5 * IQR #upper bound of the attribute\n",
    "\n",
    "\n",
    "  lst=[] #list to store the non outliers\n",
    "  for i in nums[it]: #checking all values in attribute\n",
    "      if  (i>upper_bound):\n",
    "            lst.append(upper_bound) #if number greater than upperbound then append previous upper bound\n",
    "      elif (i<lower_bound):\n",
    "          lst.append(lower_bound) #if number less than lower bound then append previous lower bound\n",
    "      else:\n",
    "          lst.append(i) # if number is between upper and lower append into list\n",
    "\n",
    "  nums[it]=lst #update the column with non outliers"
   ]
  },
  {
   "cell_type": "code",
   "execution_count": 351,
   "id": "2919e98b",
   "metadata": {},
   "outputs": [
    {
     "data": {
      "text/plain": [
       "Store           0.234642\n",
       "Dept            0.374902\n",
       "Date           -0.872691\n",
       "Weekly_Sales    1.166877\n",
       "Size           -0.627293\n",
       "Temperature    -0.118864\n",
       "Fuel_Price      0.004420\n",
       "MarkDown1       0.973890\n",
       "MarkDown2       1.247880\n",
       "MarkDown3       1.177278\n",
       "MarkDown4       1.146515\n",
       "MarkDown5       0.956539\n",
       "CPI             0.076962\n",
       "Unemployment    0.179202\n",
       "dtype: float64"
      ]
     },
     "execution_count": 351,
     "metadata": {},
     "output_type": "execute_result"
    }
   ],
   "source": [
    "nums.skew(axis = 0)"
   ]
  },
  {
   "cell_type": "code",
   "execution_count": 352,
   "id": "98c92c35",
   "metadata": {},
   "outputs": [
    {
     "data": {
      "image/png": "[encoded data removed]",
      "text/plain": [
       "<Figure size 1000x800 with 2 Axes>"
      ]
     },
     "metadata": {},
     "output_type": "display_data"
    }
   ],
   "source": [
    "plt.figure(figsize=(10,8))\n",
    "corr = nums.corr()\n",
    "sns.heatmap(corr, annot=True)\n",
    "plt.title(\"Features Correlation\", fontsize = 15)\n",
    "plt.show()"
   ]
  },
  {
   "cell_type": "code",
   "execution_count": 353,
   "id": "41b99392",
   "metadata": {},
   "outputs": [],
   "source": [
    "nums.drop(columns=['MarkDown1'],inplace=True)"
   ]
  },
  {
   "cell_type": "markdown",
   "id": "eb906d0d",
   "metadata": {},
   "source": [
    "# Encoding the categorical attributes"
   ]
  },
  {
   "cell_type": "code",
   "execution_count": 354,
   "id": "ff660493",
   "metadata": {},
   "outputs": [],
   "source": [
    "cat=df.select_dtypes(exclude='number')"
   ]
  },
  {
   "cell_type": "code",
   "execution_count": 355,
   "id": "24a730e4",
   "metadata": {},
   "outputs": [
    {
     "data": {
      "text/html": [
       "<div>\n",
       "<style scoped>\n",
       "    .dataframe tbody tr th:only-of-type {\n",
       "        vertical-align: middle;\n",
       "    }\n",
       "\n",
       "    .dataframe tbody tr th {\n",
       "        vertical-align: top;\n",
       "    }\n",
       "\n",
       "    .dataframe thead th {\n",
       "        text-align: right;\n",
       "    }\n",
       "</style>\n",
       "<table border=\"1\" class=\"dataframe\">\n",
       "  <thead>\n",
       "    <tr style=\"text-align: right;\">\n",
       "      <th></th>\n",
       "      <th>IsHoliday</th>\n",
       "      <th>Type</th>\n",
       "    </tr>\n",
       "  </thead>\n",
       "  <tbody>\n",
       "    <tr>\n",
       "      <th>6587</th>\n",
       "      <td>False</td>\n",
       "      <td>A</td>\n",
       "    </tr>\n",
       "    <tr>\n",
       "      <th>6588</th>\n",
       "      <td>False</td>\n",
       "      <td>A</td>\n",
       "    </tr>\n",
       "    <tr>\n",
       "      <th>6589</th>\n",
       "      <td>False</td>\n",
       "      <td>A</td>\n",
       "    </tr>\n",
       "    <tr>\n",
       "      <th>6590</th>\n",
       "      <td>False</td>\n",
       "      <td>A</td>\n",
       "    </tr>\n",
       "    <tr>\n",
       "      <th>6591</th>\n",
       "      <td>False</td>\n",
       "      <td>A</td>\n",
       "    </tr>\n",
       "    <tr>\n",
       "      <th>...</th>\n",
       "      <td>...</td>\n",
       "      <td>...</td>\n",
       "    </tr>\n",
       "    <tr>\n",
       "      <th>421565</th>\n",
       "      <td>False</td>\n",
       "      <td>B</td>\n",
       "    </tr>\n",
       "    <tr>\n",
       "      <th>421566</th>\n",
       "      <td>False</td>\n",
       "      <td>B</td>\n",
       "    </tr>\n",
       "    <tr>\n",
       "      <th>421567</th>\n",
       "      <td>False</td>\n",
       "      <td>B</td>\n",
       "    </tr>\n",
       "    <tr>\n",
       "      <th>421568</th>\n",
       "      <td>False</td>\n",
       "      <td>B</td>\n",
       "    </tr>\n",
       "    <tr>\n",
       "      <th>421569</th>\n",
       "      <td>False</td>\n",
       "      <td>B</td>\n",
       "    </tr>\n",
       "  </tbody>\n",
       "</table>\n",
       "<p>97056 rows × 2 columns</p>\n",
       "</div>"
      ],
      "text/plain": [
       "       IsHoliday Type\n",
       "6587       False    A\n",
       "6588       False    A\n",
       "6589       False    A\n",
       "6590       False    A\n",
       "6591       False    A\n",
       "...          ...  ...\n",
       "421565     False    B\n",
       "421566     False    B\n",
       "421567     False    B\n",
       "421568     False    B\n",
       "421569     False    B\n",
       "\n",
       "[97056 rows x 2 columns]"
      ]
     },
     "execution_count": 355,
     "metadata": {},
     "output_type": "execute_result"
    }
   ],
   "source": [
    "cat['IsHoliday']=cat['IsHoliday'].astype(str)\n",
    "cat"
   ]
  },
  {
   "cell_type": "code",
   "execution_count": 356,
   "id": "10425a1e",
   "metadata": {},
   "outputs": [
    {
     "data": {
      "text/html": [
       "<div>\n",
       "<style scoped>\n",
       "    .dataframe tbody tr th:only-of-type {\n",
       "        vertical-align: middle;\n",
       "    }\n",
       "\n",
       "    .dataframe tbody tr th {\n",
       "        vertical-align: top;\n",
       "    }\n",
       "\n",
       "    .dataframe thead th {\n",
       "        text-align: right;\n",
       "    }\n",
       "</style>\n",
       "<table border=\"1\" class=\"dataframe\">\n",
       "  <thead>\n",
       "    <tr style=\"text-align: right;\">\n",
       "      <th></th>\n",
       "      <th>IsHoliday</th>\n",
       "      <th>Type</th>\n",
       "    </tr>\n",
       "  </thead>\n",
       "  <tbody>\n",
       "    <tr>\n",
       "      <th>6587</th>\n",
       "      <td>0.0</td>\n",
       "      <td>0.0</td>\n",
       "    </tr>\n",
       "    <tr>\n",
       "      <th>6588</th>\n",
       "      <td>0.0</td>\n",
       "      <td>0.0</td>\n",
       "    </tr>\n",
       "    <tr>\n",
       "      <th>6589</th>\n",
       "      <td>0.0</td>\n",
       "      <td>0.0</td>\n",
       "    </tr>\n",
       "    <tr>\n",
       "      <th>6590</th>\n",
       "      <td>0.0</td>\n",
       "      <td>0.0</td>\n",
       "    </tr>\n",
       "    <tr>\n",
       "      <th>6591</th>\n",
       "      <td>0.0</td>\n",
       "      <td>0.0</td>\n",
       "    </tr>\n",
       "    <tr>\n",
       "      <th>...</th>\n",
       "      <td>...</td>\n",
       "      <td>...</td>\n",
       "    </tr>\n",
       "    <tr>\n",
       "      <th>421565</th>\n",
       "      <td>0.0</td>\n",
       "      <td>1.0</td>\n",
       "    </tr>\n",
       "    <tr>\n",
       "      <th>421566</th>\n",
       "      <td>0.0</td>\n",
       "      <td>1.0</td>\n",
       "    </tr>\n",
       "    <tr>\n",
       "      <th>421567</th>\n",
       "      <td>0.0</td>\n",
       "      <td>1.0</td>\n",
       "    </tr>\n",
       "    <tr>\n",
       "      <th>421568</th>\n",
       "      <td>0.0</td>\n",
       "      <td>1.0</td>\n",
       "    </tr>\n",
       "    <tr>\n",
       "      <th>421569</th>\n",
       "      <td>0.0</td>\n",
       "      <td>1.0</td>\n",
       "    </tr>\n",
       "  </tbody>\n",
       "</table>\n",
       "<p>97056 rows × 2 columns</p>\n",
       "</div>"
      ],
      "text/plain": [
       "        IsHoliday  Type\n",
       "6587          0.0   0.0\n",
       "6588          0.0   0.0\n",
       "6589          0.0   0.0\n",
       "6590          0.0   0.0\n",
       "6591          0.0   0.0\n",
       "...           ...   ...\n",
       "421565        0.0   1.0\n",
       "421566        0.0   1.0\n",
       "421567        0.0   1.0\n",
       "421568        0.0   1.0\n",
       "421569        0.0   1.0\n",
       "\n",
       "[97056 rows x 2 columns]"
      ]
     },
     "execution_count": 356,
     "metadata": {},
     "output_type": "execute_result"
    }
   ],
   "source": [
    "from sklearn import preprocessing\n",
    "ordi = preprocessing.OrdinalEncoder()\n",
    "new_cat = pd.DataFrame(ordi.fit_transform(cat),columns=['IsHoliday','Type'],index=cat.index)\n",
    "new_cat"
   ]
  },
  {
   "cell_type": "code",
   "execution_count": 357,
   "id": "37fce7e2",
   "metadata": {},
   "outputs": [],
   "source": [
    "import pickle\n",
    "pickle.dump(ordi,open('encoder.pkl','wb'))"
   ]
  },
  {
   "cell_type": "markdown",
   "id": "e8c3b1c5",
   "metadata": {},
   "source": [
    "# Standardizing numerical attributes"
   ]
  },
  {
   "cell_type": "code",
   "execution_count": 358,
   "id": "5dd8dec5",
   "metadata": {},
   "outputs": [],
   "source": [
    "nums.drop(columns=['Weekly_Sales'],inplace=True)"
   ]
  },
  {
   "cell_type": "code",
   "execution_count": 359,
   "id": "8bbe061d",
   "metadata": {},
   "outputs": [],
   "source": [
    "from sklearn.preprocessing import StandardScaler\n",
    "\n",
    "scaler = StandardScaler()\n",
    "std_num= pd.DataFrame(scaler.fit_transform(nums), \n",
    "                                    columns = nums.columns, \n",
    "                                    index = nums.index)"
   ]
  },
  {
   "cell_type": "code",
   "execution_count": 360,
   "id": "9581d242",
   "metadata": {},
   "outputs": [],
   "source": [
    "import pickle\n",
    "pickle.dump(scaler,open('scaling.pkl','wb'))"
   ]
  },
  {
   "cell_type": "code",
   "execution_count": 361,
   "id": "aa250621",
   "metadata": {},
   "outputs": [],
   "source": [
    "new_df=pd.concat([new_cat,std_num,df['Weekly_Sales']],axis=1,ignore_index=False)"
   ]
  },
  {
   "cell_type": "code",
   "execution_count": 362,
   "id": "f08b593b",
   "metadata": {},
   "outputs": [
    {
     "data": {
      "text/html": [
       "<div>\n",
       "<style scoped>\n",
       "    .dataframe tbody tr th:only-of-type {\n",
       "        vertical-align: middle;\n",
       "    }\n",
       "\n",
       "    .dataframe tbody tr th {\n",
       "        vertical-align: top;\n",
       "    }\n",
       "\n",
       "    .dataframe thead th {\n",
       "        text-align: right;\n",
       "    }\n",
       "</style>\n",
       "<table border=\"1\" class=\"dataframe\">\n",
       "  <thead>\n",
       "    <tr style=\"text-align: right;\">\n",
       "      <th></th>\n",
       "      <th>IsHoliday</th>\n",
       "      <th>Type</th>\n",
       "      <th>Store</th>\n",
       "      <th>Dept</th>\n",
       "      <th>Date</th>\n",
       "      <th>Size</th>\n",
       "      <th>Temperature</th>\n",
       "      <th>Fuel_Price</th>\n",
       "      <th>MarkDown2</th>\n",
       "      <th>MarkDown3</th>\n",
       "      <th>MarkDown4</th>\n",
       "      <th>MarkDown5</th>\n",
       "      <th>CPI</th>\n",
       "      <th>Unemployment</th>\n",
       "      <th>Weekly_Sales</th>\n",
       "    </tr>\n",
       "  </thead>\n",
       "  <tbody>\n",
       "    <tr>\n",
       "      <th>6587</th>\n",
       "      <td>0.0</td>\n",
       "      <td>0.0</td>\n",
       "      <td>-1.598238</td>\n",
       "      <td>-1.436911</td>\n",
       "      <td>-1.835484</td>\n",
       "      <td>-0.076450</td>\n",
       "      <td>0.096458</td>\n",
       "      <td>-1.14980</td>\n",
       "      <td>1.923564</td>\n",
       "      <td>1.241371</td>\n",
       "      <td>-0.159663</td>\n",
       "      <td>0.643111</td>\n",
       "      <td>1.090257</td>\n",
       "      <td>0.315153</td>\n",
       "      <td>18689.54</td>\n",
       "    </tr>\n",
       "    <tr>\n",
       "      <th>6588</th>\n",
       "      <td>0.0</td>\n",
       "      <td>0.0</td>\n",
       "      <td>-1.598238</td>\n",
       "      <td>-1.403709</td>\n",
       "      <td>-1.835484</td>\n",
       "      <td>-0.076450</td>\n",
       "      <td>0.096458</td>\n",
       "      <td>-1.14980</td>\n",
       "      <td>1.923564</td>\n",
       "      <td>1.241371</td>\n",
       "      <td>-0.159663</td>\n",
       "      <td>0.643111</td>\n",
       "      <td>1.090257</td>\n",
       "      <td>0.315153</td>\n",
       "      <td>44936.47</td>\n",
       "    </tr>\n",
       "    <tr>\n",
       "      <th>6589</th>\n",
       "      <td>0.0</td>\n",
       "      <td>0.0</td>\n",
       "      <td>-1.598238</td>\n",
       "      <td>-1.370508</td>\n",
       "      <td>-1.835484</td>\n",
       "      <td>-0.076450</td>\n",
       "      <td>0.096458</td>\n",
       "      <td>-1.14980</td>\n",
       "      <td>1.923564</td>\n",
       "      <td>1.241371</td>\n",
       "      <td>-0.159663</td>\n",
       "      <td>0.643111</td>\n",
       "      <td>1.090257</td>\n",
       "      <td>0.315153</td>\n",
       "      <td>9959.64</td>\n",
       "    </tr>\n",
       "    <tr>\n",
       "      <th>6590</th>\n",
       "      <td>0.0</td>\n",
       "      <td>0.0</td>\n",
       "      <td>-1.598238</td>\n",
       "      <td>-1.337307</td>\n",
       "      <td>-1.835484</td>\n",
       "      <td>-0.076450</td>\n",
       "      <td>0.096458</td>\n",
       "      <td>-1.14980</td>\n",
       "      <td>1.923564</td>\n",
       "      <td>1.241371</td>\n",
       "      <td>-0.159663</td>\n",
       "      <td>0.643111</td>\n",
       "      <td>1.090257</td>\n",
       "      <td>0.315153</td>\n",
       "      <td>36826.52</td>\n",
       "    </tr>\n",
       "    <tr>\n",
       "      <th>6591</th>\n",
       "      <td>0.0</td>\n",
       "      <td>0.0</td>\n",
       "      <td>-1.598238</td>\n",
       "      <td>-1.304105</td>\n",
       "      <td>-1.835484</td>\n",
       "      <td>-0.076450</td>\n",
       "      <td>0.096458</td>\n",
       "      <td>-1.14980</td>\n",
       "      <td>1.923564</td>\n",
       "      <td>1.241371</td>\n",
       "      <td>-0.159663</td>\n",
       "      <td>0.643111</td>\n",
       "      <td>1.090257</td>\n",
       "      <td>0.315153</td>\n",
       "      <td>31002.65</td>\n",
       "    </tr>\n",
       "    <tr>\n",
       "      <th>...</th>\n",
       "      <td>...</td>\n",
       "      <td>...</td>\n",
       "      <td>...</td>\n",
       "      <td>...</td>\n",
       "      <td>...</td>\n",
       "      <td>...</td>\n",
       "      <td>...</td>\n",
       "      <td>...</td>\n",
       "      <td>...</td>\n",
       "      <td>...</td>\n",
       "      <td>...</td>\n",
       "      <td>...</td>\n",
       "      <td>...</td>\n",
       "      <td>...</td>\n",
       "      <td>...</td>\n",
       "    </tr>\n",
       "    <tr>\n",
       "      <th>421565</th>\n",
       "      <td>0.0</td>\n",
       "      <td>1.0</td>\n",
       "      <td>2.056889</td>\n",
       "      <td>1.617609</td>\n",
       "      <td>1.319922</td>\n",
       "      <td>-0.722806</td>\n",
       "      <td>0.082222</td>\n",
       "      <td>0.93947</td>\n",
       "      <td>-0.646833</td>\n",
       "      <td>0.151128</td>\n",
       "      <td>-0.902790</td>\n",
       "      <td>-1.271488</td>\n",
       "      <td>0.442398</td>\n",
       "      <td>0.821139</td>\n",
       "      <td>2487.80</td>\n",
       "    </tr>\n",
       "    <tr>\n",
       "      <th>421566</th>\n",
       "      <td>0.0</td>\n",
       "      <td>1.0</td>\n",
       "      <td>2.056889</td>\n",
       "      <td>1.650810</td>\n",
       "      <td>1.319922</td>\n",
       "      <td>-0.722806</td>\n",
       "      <td>0.082222</td>\n",
       "      <td>0.93947</td>\n",
       "      <td>-0.646833</td>\n",
       "      <td>0.151128</td>\n",
       "      <td>-0.902790</td>\n",
       "      <td>-1.271488</td>\n",
       "      <td>0.442398</td>\n",
       "      <td>0.821139</td>\n",
       "      <td>5203.31</td>\n",
       "    </tr>\n",
       "    <tr>\n",
       "      <th>421567</th>\n",
       "      <td>0.0</td>\n",
       "      <td>1.0</td>\n",
       "      <td>2.056889</td>\n",
       "      <td>1.684011</td>\n",
       "      <td>1.319922</td>\n",
       "      <td>-0.722806</td>\n",
       "      <td>0.082222</td>\n",
       "      <td>0.93947</td>\n",
       "      <td>-0.646833</td>\n",
       "      <td>0.151128</td>\n",
       "      <td>-0.902790</td>\n",
       "      <td>-1.271488</td>\n",
       "      <td>0.442398</td>\n",
       "      <td>0.821139</td>\n",
       "      <td>56017.47</td>\n",
       "    </tr>\n",
       "    <tr>\n",
       "      <th>421568</th>\n",
       "      <td>0.0</td>\n",
       "      <td>1.0</td>\n",
       "      <td>2.056889</td>\n",
       "      <td>1.750414</td>\n",
       "      <td>1.319922</td>\n",
       "      <td>-0.722806</td>\n",
       "      <td>0.082222</td>\n",
       "      <td>0.93947</td>\n",
       "      <td>-0.646833</td>\n",
       "      <td>0.151128</td>\n",
       "      <td>-0.902790</td>\n",
       "      <td>-1.271488</td>\n",
       "      <td>0.442398</td>\n",
       "      <td>0.821139</td>\n",
       "      <td>6817.48</td>\n",
       "    </tr>\n",
       "    <tr>\n",
       "      <th>421569</th>\n",
       "      <td>0.0</td>\n",
       "      <td>1.0</td>\n",
       "      <td>2.056889</td>\n",
       "      <td>1.783615</td>\n",
       "      <td>1.319922</td>\n",
       "      <td>-0.722806</td>\n",
       "      <td>0.082222</td>\n",
       "      <td>0.93947</td>\n",
       "      <td>-0.646833</td>\n",
       "      <td>0.151128</td>\n",
       "      <td>-0.902790</td>\n",
       "      <td>-1.271488</td>\n",
       "      <td>0.442398</td>\n",
       "      <td>0.821139</td>\n",
       "      <td>1076.80</td>\n",
       "    </tr>\n",
       "  </tbody>\n",
       "</table>\n",
       "<p>97056 rows × 15 columns</p>\n",
       "</div>"
      ],
      "text/plain": [
       "        IsHoliday  Type     Store      Dept      Date      Size  Temperature  \\\n",
       "6587          0.0   0.0 -1.598238 -1.436911 -1.835484 -0.076450     0.096458   \n",
       "6588          0.0   0.0 -1.598238 -1.403709 -1.835484 -0.076450     0.096458   \n",
       "6589          0.0   0.0 -1.598238 -1.370508 -1.835484 -0.076450     0.096458   \n",
       "6590          0.0   0.0 -1.598238 -1.337307 -1.835484 -0.076450     0.096458   \n",
       "6591          0.0   0.0 -1.598238 -1.304105 -1.835484 -0.076450     0.096458   \n",
       "...           ...   ...       ...       ...       ...       ...          ...   \n",
       "421565        0.0   1.0  2.056889  1.617609  1.319922 -0.722806     0.082222   \n",
       "421566        0.0   1.0  2.056889  1.650810  1.319922 -0.722806     0.082222   \n",
       "421567        0.0   1.0  2.056889  1.684011  1.319922 -0.722806     0.082222   \n",
       "421568        0.0   1.0  2.056889  1.750414  1.319922 -0.722806     0.082222   \n",
       "421569        0.0   1.0  2.056889  1.783615  1.319922 -0.722806     0.082222   \n",
       "\n",
       "        Fuel_Price  MarkDown2  MarkDown3  MarkDown4  MarkDown5       CPI  \\\n",
       "6587      -1.14980   1.923564   1.241371  -0.159663   0.643111  1.090257   \n",
       "6588      -1.14980   1.923564   1.241371  -0.159663   0.643111  1.090257   \n",
       "6589      -1.14980   1.923564   1.241371  -0.159663   0.643111  1.090257   \n",
       "6590      -1.14980   1.923564   1.241371  -0.159663   0.643111  1.090257   \n",
       "6591      -1.14980   1.923564   1.241371  -0.159663   0.643111  1.090257   \n",
       "...            ...        ...        ...        ...        ...       ...   \n",
       "421565     0.93947  -0.646833   0.151128  -0.902790  -1.271488  0.442398   \n",
       "421566     0.93947  -0.646833   0.151128  -0.902790  -1.271488  0.442398   \n",
       "421567     0.93947  -0.646833   0.151128  -0.902790  -1.271488  0.442398   \n",
       "421568     0.93947  -0.646833   0.151128  -0.902790  -1.271488  0.442398   \n",
       "421569     0.93947  -0.646833   0.151128  -0.902790  -1.271488  0.442398   \n",
       "\n",
       "        Unemployment  Weekly_Sales  \n",
       "6587        0.315153      18689.54  \n",
       "6588        0.315153      44936.47  \n",
       "6589        0.315153       9959.64  \n",
       "6590        0.315153      36826.52  \n",
       "6591        0.315153      31002.65  \n",
       "...              ...           ...  \n",
       "421565      0.821139       2487.80  \n",
       "421566      0.821139       5203.31  \n",
       "421567      0.821139      56017.47  \n",
       "421568      0.821139       6817.48  \n",
       "421569      0.821139       1076.80  \n",
       "\n",
       "[97056 rows x 15 columns]"
      ]
     },
     "execution_count": 362,
     "metadata": {},
     "output_type": "execute_result"
    }
   ],
   "source": [
    "new_df"
   ]
  },
  {
   "cell_type": "code",
   "execution_count": 363,
   "id": "34ff3472",
   "metadata": {},
   "outputs": [
    {
     "data": {
      "text/plain": [
       "array([0., 1., 2.])"
      ]
     },
     "execution_count": 363,
     "metadata": {},
     "output_type": "execute_result"
    }
   ],
   "source": [
    "new_df['Type'].unique()"
   ]
  },
  {
   "cell_type": "markdown",
   "id": "9f7efefe",
   "metadata": {},
   "source": [
    "## Data Splitting"
   ]
  },
  {
   "cell_type": "code",
   "execution_count": 364,
   "id": "191cbee7",
   "metadata": {},
   "outputs": [],
   "source": [
    "x=new_df.drop(columns=['Weekly_Sales'])\n",
    "y=new_df['Weekly_Sales']"
   ]
  },
  {
   "cell_type": "markdown",
   "id": "b2102992",
   "metadata": {},
   "source": [
    "## Splitting for train and test"
   ]
  },
  {
   "cell_type": "code",
   "execution_count": 365,
   "id": "20bf7e4e",
   "metadata": {},
   "outputs": [],
   "source": [
    "from sklearn.model_selection import train_test_split\n",
    "\n",
    "X_train, X_test, y_train, y_test = train_test_split(x, y, train_size=0.7, random_state=100)"
   ]
  },
  {
   "cell_type": "markdown",
   "id": "7d759cda",
   "metadata": {},
   "source": [
    "# Modeling"
   ]
  },
  {
   "cell_type": "markdown",
   "id": "1a7e7e25",
   "metadata": {},
   "source": [
    "### Linear, Lasso, Ridge Regression"
   ]
  },
  {
   "cell_type": "code",
   "execution_count": 366,
   "id": "fb36f83c",
   "metadata": {},
   "outputs": [],
   "source": [
    "from sklearn.linear_model import LinearRegression, Lasso, Ridge\n",
    "\n",
    "# Linear Regression\n",
    "regressor = LinearRegression()\n",
    "# Lasso Regression\n",
    "lasso = Lasso()\n",
    "# Ridge Regression\n",
    "ridge = Ridge()\n",
    "\n",
    "# Fitting models on Training data \n",
    "regressor.fit(X_train, y_train)\n",
    "lasso.fit(X_train, y_train)\n",
    "ridge.fit(X_train, y_train)\n",
    "\n",
    "# Making predictions on Test data\n",
    "y_pred_lr = regressor.predict(X_test)\n",
    "y_pred_lasso = lasso.predict(X_test)\n",
    "y_pred_ridge = ridge.predict(X_test)"
   ]
  },
  {
   "cell_type": "code",
   "execution_count": 367,
   "id": "a0220c9c",
   "metadata": {},
   "outputs": [
    {
     "name": "stdout",
     "output_type": "stream",
     "text": [
      "Model\t\t\t RMSE \t\t\t MSE \t\tMAE \t\t MAPE \t\t\t\t R2\n",
      "LinearRegression \t 23635.19 \t\t 558622261.70 \t16111.20 \t9717668661972980.00 \t\t0.08\n",
      "LassoRegression \t 23635.07 \t\t 558616706.75 \t16111.05 \t9718335031250986.00 \t\t0.08\n",
      "RidgeRegression \t 23635.19 \t\t 558622179.36 \t16111.19 \t9717677453816530.00 \t\t0.08\n"
     ]
    }
   ],
   "source": [
    "from sklearn import metrics\n",
    "\n",
    "print(\"Model\\t\\t\\t RMSE \\t\\t\\t MSE \\t\\tMAE \\t\\t MAPE \\t\\t\\t\\t R2\")\n",
    "print(\"\"\"LinearRegression \\t {:.2f} \\t\\t {:.2f} \\t{:.2f} \\t{:.2f} \\t\\t{:.2f}\"\"\".format(\n",
    "            np.sqrt(metrics.mean_squared_error(y_test, y_pred_lr)),metrics.mean_squared_error(y_test, y_pred_lr),metrics.mean_absolute_error(y_test, y_pred_lr),metrics.mean_absolute_percentage_error(y_test, y_pred_lr),metrics.r2_score(y_test, y_pred_lr)))\n",
    "print(\"\"\"LassoRegression \\t {:.2f} \\t\\t {:.2f} \\t{:.2f} \\t{:.2f} \\t\\t{:.2f}\"\"\".format(\n",
    "            np.sqrt(metrics.mean_squared_error(y_test, y_pred_lasso)),metrics.mean_squared_error(y_test, y_pred_lasso),metrics.mean_absolute_error(y_test, y_pred_lasso),metrics.mean_absolute_percentage_error(y_test, y_pred_lasso), metrics.r2_score(y_test, y_pred_lasso)))\n",
    "print(\"\"\"RidgeRegression \\t {:.2f} \\t\\t {:.2f} \\t{:.2f} \\t{:.2f} \\t\\t{:.2f}\"\"\".format(\n",
    "            np.sqrt(metrics.mean_squared_error(y_test, y_pred_ridge)),metrics.mean_squared_error(y_test, y_pred_ridge),metrics.mean_absolute_error(y_test, y_pred_ridge),metrics.mean_absolute_percentage_error(y_test, y_pred_ridge), metrics.r2_score(y_test, y_pred_ridge)))"
   ]
  },
  {
   "cell_type": "markdown",
   "id": "f648aaa8",
   "metadata": {},
   "source": [
    "### KNN Regressor"
   ]
  },
  {
   "cell_type": "code",
   "execution_count": 301,
   "id": "55df4f78",
   "metadata": {
    "scrolled": true
   },
   "outputs": [
    {
     "data": {
      "text/html": [
       "<style>#sk-container-id-1 {color: black;background-color: white;}#sk-container-id-1 pre{padding: 0;}#sk-container-id-1 div.sk-toggleable {background-color: white;}#sk-container-id-1 label.sk-toggleable__label {cursor: pointer;display: block;width: 100%;margin-bottom: 0;padding: 0.3em;box-sizing: border-box;text-align: center;}#sk-container-id-1 label.sk-toggleable__label-arrow:before {content: \"▸\";float: left;margin-right: 0.25em;color: #696969;}#sk-container-id-1 label.sk-toggleable__label-arrow:hover:before {color: black;}#sk-container-id-1 div.sk-estimator:hover label.sk-toggleable__label-arrow:before {color: black;}#sk-container-id-1 div.sk-toggleable__content {max-height: 0;max-width: 0;overflow: hidden;text-align: left;background-color: #f0f8ff;}#sk-container-id-1 div.sk-toggleable__content pre {margin: 0.2em;color: black;border-radius: 0.25em;background-color: #f0f8ff;}#sk-container-id-1 input.sk-toggleable__control:checked~div.sk-toggleable__content {max-height: 200px;max-width: 100%;overflow: auto;}#sk-container-id-1 input.sk-toggleable__control:checked~label.sk-toggleable__label-arrow:before {content: \"▾\";}#sk-container-id-1 div.sk-estimator input.sk-toggleable__control:checked~label.sk-toggleable__label {background-color: #d4ebff;}#sk-container-id-1 div.sk-label input.sk-toggleable__control:checked~label.sk-toggleable__label {background-color: #d4ebff;}#sk-container-id-1 input.sk-hidden--visually {border: 0;clip: rect(1px 1px 1px 1px);clip: rect(1px, 1px, 1px, 1px);height: 1px;margin: -1px;overflow: hidden;padding: 0;position: absolute;width: 1px;}#sk-container-id-1 div.sk-estimator {font-family: monospace;background-color: #f0f8ff;border: 1px dotted black;border-radius: 0.25em;box-sizing: border-box;margin-bottom: 0.5em;}#sk-container-id-1 div.sk-estimator:hover {background-color: #d4ebff;}#sk-container-id-1 div.sk-parallel-item::after {content: \"\";width: 100%;border-bottom: 1px solid gray;flex-grow: 1;}#sk-container-id-1 div.sk-label:hover label.sk-toggleable__label {background-color: #d4ebff;}#sk-container-id-1 div.sk-serial::before {content: \"\";position: absolute;border-left: 1px solid gray;box-sizing: border-box;top: 0;bottom: 0;left: 50%;z-index: 0;}#sk-container-id-1 div.sk-serial {display: flex;flex-direction: column;align-items: center;background-color: white;padding-right: 0.2em;padding-left: 0.2em;position: relative;}#sk-container-id-1 div.sk-item {position: relative;z-index: 1;}#sk-container-id-1 div.sk-parallel {display: flex;align-items: stretch;justify-content: center;background-color: white;position: relative;}#sk-container-id-1 div.sk-item::before, #sk-container-id-1 div.sk-parallel-item::before {content: \"\";position: absolute;border-left: 1px solid gray;box-sizing: border-box;top: 0;bottom: 0;left: 50%;z-index: -1;}#sk-container-id-1 div.sk-parallel-item {display: flex;flex-direction: column;z-index: 1;position: relative;background-color: white;}#sk-container-id-1 div.sk-parallel-item:first-child::after {align-self: flex-end;width: 50%;}#sk-container-id-1 div.sk-parallel-item:last-child::after {align-self: flex-start;width: 50%;}#sk-container-id-1 div.sk-parallel-item:only-child::after {width: 0;}#sk-container-id-1 div.sk-dashed-wrapped {border: 1px dashed gray;margin: 0 0.4em 0.5em 0.4em;box-sizing: border-box;padding-bottom: 0.4em;background-color: white;}#sk-container-id-1 div.sk-label label {font-family: monospace;font-weight: bold;display: inline-block;line-height: 1.2em;}#sk-container-id-1 div.sk-label-container {text-align: center;}#sk-container-id-1 div.sk-container {/* jupyter's `normalize.less` sets `[hidden] { display: none; }` but bootstrap.min.css set `[hidden] { display: none !important; }` so we also need the `!important` here to be able to override the default hidden behavior on the sphinx rendered scikit-learn.org. See: https://github.com/scikit-learn/scikit-learn/issues/21755 */display: inline-block !important;position: relative;}#sk-container-id-1 div.sk-text-repr-fallback {display: none;}</style><div id=\"sk-container-id-1\" class=\"sk-top-container\"><div class=\"sk-text-repr-fallback\"><pre>KNeighborsRegressor()</pre><b>In a Jupyter environment, please rerun this cell to show the HTML representation or trust the notebook. <br />On GitHub, the HTML representation is unable to render, please try loading this page with nbviewer.org.</b></div><div class=\"sk-container\" hidden><div class=\"sk-item\"><div class=\"sk-estimator sk-toggleable\"><input class=\"sk-toggleable__control sk-hidden--visually\" id=\"sk-estimator-id-1\" type=\"checkbox\" checked><label for=\"sk-estimator-id-1\" class=\"sk-toggleable__label sk-toggleable__label-arrow\">KNeighborsRegressor</label><div class=\"sk-toggleable__content\"><pre>KNeighborsRegressor()</pre></div></div></div></div></div>"
      ],
      "text/plain": [
       "KNeighborsRegressor()"
      ]
     },
     "execution_count": 301,
     "metadata": {},
     "output_type": "execute_result"
    }
   ],
   "source": [
    "from sklearn.neighbors import KNeighborsRegressor\n",
    "regressor_knn = KNeighborsRegressor()\n",
    "regressor_knn.fit(X_train, y_train)"
   ]
  },
  {
   "cell_type": "code",
   "execution_count": 302,
   "id": "58418c6a",
   "metadata": {},
   "outputs": [],
   "source": [
    "y_test_pred = regressor_knn.predict(X_test)"
   ]
  },
  {
   "cell_type": "code",
   "execution_count": 303,
   "id": "a8d96176",
   "metadata": {},
   "outputs": [
    {
     "data": {
      "text/html": [
       "<div>\n",
       "<style scoped>\n",
       "    .dataframe tbody tr th:only-of-type {\n",
       "        vertical-align: middle;\n",
       "    }\n",
       "\n",
       "    .dataframe tbody tr th {\n",
       "        vertical-align: top;\n",
       "    }\n",
       "\n",
       "    .dataframe thead th {\n",
       "        text-align: right;\n",
       "    }\n",
       "</style>\n",
       "<table border=\"1\" class=\"dataframe\">\n",
       "  <thead>\n",
       "    <tr style=\"text-align: right;\">\n",
       "      <th></th>\n",
       "      <th>Actual</th>\n",
       "      <th>Predicted</th>\n",
       "    </tr>\n",
       "  </thead>\n",
       "  <tbody>\n",
       "    <tr>\n",
       "      <th>76854</th>\n",
       "      <td>12816.04</td>\n",
       "      <td>10593.284</td>\n",
       "    </tr>\n",
       "    <tr>\n",
       "      <th>26508</th>\n",
       "      <td>29.70</td>\n",
       "      <td>4058.848</td>\n",
       "    </tr>\n",
       "    <tr>\n",
       "      <th>65749</th>\n",
       "      <td>22492.00</td>\n",
       "      <td>19775.524</td>\n",
       "    </tr>\n",
       "    <tr>\n",
       "      <th>6837</th>\n",
       "      <td>2450.12</td>\n",
       "      <td>5873.574</td>\n",
       "    </tr>\n",
       "    <tr>\n",
       "      <th>8267</th>\n",
       "      <td>5047.11</td>\n",
       "      <td>9106.810</td>\n",
       "    </tr>\n",
       "  </tbody>\n",
       "</table>\n",
       "</div>"
      ],
      "text/plain": [
       "         Actual  Predicted\n",
       "76854  12816.04  10593.284\n",
       "26508     29.70   4058.848\n",
       "65749  22492.00  19775.524\n",
       "6837    2450.12   5873.574\n",
       "8267    5047.11   9106.810"
      ]
     },
     "execution_count": 303,
     "metadata": {},
     "output_type": "execute_result"
    }
   ],
   "source": [
    "temp_df = pd.DataFrame({'Actual': y_test, 'Predicted': y_test_pred})\n",
    "#showing only 5 rows\n",
    "temp_df.head()"
   ]
  },
  {
   "cell_type": "code",
   "execution_count": 304,
   "id": "254508fc",
   "metadata": {},
   "outputs": [
    {
     "name": "stdout",
     "output_type": "stream",
     "text": [
      "Mean Absolute Error:  14478.255574875207\n",
      "Mean Squared Error:  564496351.8835226\n",
      "Root Mean Squared Error:  23759.13196822482\n",
      "Mean Absolute percentage Error:  1336.2267864375947\n",
      "R-Square is 0.21588891261205623\n"
     ]
    }
   ],
   "source": [
    "print('Mean Absolute Error: ', metrics.mean_absolute_error(y_test, y_test_pred))\n",
    "\n",
    "print('Mean Squared Error: ', metrics.mean_squared_error(y_test, y_test_pred))\n",
    "\n",
    "print('Root Mean Squared Error: ', np.sqrt(metrics.mean_squared_error(y_test, y_test_pred)))\n",
    "\n",
    "print('Mean Absolute percentage Error: ', metrics.mean_absolute_percentage_error(y_test, y_test_pred))\n",
    "\n",
    "print(\"R-Square is\",metrics.r2_score(y_test,y_test_pred))"
   ]
  },
  {
   "cell_type": "markdown",
   "id": "fe2fa012",
   "metadata": {},
   "source": [
    "### Decision Tree Regressor"
   ]
  },
  {
   "cell_type": "code",
   "execution_count": 305,
   "id": "f6a4419b",
   "metadata": {},
   "outputs": [
    {
     "data": {
      "text/html": [
       "<style>#sk-container-id-2 {color: black;background-color: white;}#sk-container-id-2 pre{padding: 0;}#sk-container-id-2 div.sk-toggleable {background-color: white;}#sk-container-id-2 label.sk-toggleable__label {cursor: pointer;display: block;width: 100%;margin-bottom: 0;padding: 0.3em;box-sizing: border-box;text-align: center;}#sk-container-id-2 label.sk-toggleable__label-arrow:before {content: \"▸\";float: left;margin-right: 0.25em;color: #696969;}#sk-container-id-2 label.sk-toggleable__label-arrow:hover:before {color: black;}#sk-container-id-2 div.sk-estimator:hover label.sk-toggleable__label-arrow:before {color: black;}#sk-container-id-2 div.sk-toggleable__content {max-height: 0;max-width: 0;overflow: hidden;text-align: left;background-color: #f0f8ff;}#sk-container-id-2 div.sk-toggleable__content pre {margin: 0.2em;color: black;border-radius: 0.25em;background-color: #f0f8ff;}#sk-container-id-2 input.sk-toggleable__control:checked~div.sk-toggleable__content {max-height: 200px;max-width: 100%;overflow: auto;}#sk-container-id-2 input.sk-toggleable__control:checked~label.sk-toggleable__label-arrow:before {content: \"▾\";}#sk-container-id-2 div.sk-estimator input.sk-toggleable__control:checked~label.sk-toggleable__label {background-color: #d4ebff;}#sk-container-id-2 div.sk-label input.sk-toggleable__control:checked~label.sk-toggleable__label {background-color: #d4ebff;}#sk-container-id-2 input.sk-hidden--visually {border: 0;clip: rect(1px 1px 1px 1px);clip: rect(1px, 1px, 1px, 1px);height: 1px;margin: -1px;overflow: hidden;padding: 0;position: absolute;width: 1px;}#sk-container-id-2 div.sk-estimator {font-family: monospace;background-color: #f0f8ff;border: 1px dotted black;border-radius: 0.25em;box-sizing: border-box;margin-bottom: 0.5em;}#sk-container-id-2 div.sk-estimator:hover {background-color: #d4ebff;}#sk-container-id-2 div.sk-parallel-item::after {content: \"\";width: 100%;border-bottom: 1px solid gray;flex-grow: 1;}#sk-container-id-2 div.sk-label:hover label.sk-toggleable__label {background-color: #d4ebff;}#sk-container-id-2 div.sk-serial::before {content: \"\";position: absolute;border-left: 1px solid gray;box-sizing: border-box;top: 0;bottom: 0;left: 50%;z-index: 0;}#sk-container-id-2 div.sk-serial {display: flex;flex-direction: column;align-items: center;background-color: white;padding-right: 0.2em;padding-left: 0.2em;position: relative;}#sk-container-id-2 div.sk-item {position: relative;z-index: 1;}#sk-container-id-2 div.sk-parallel {display: flex;align-items: stretch;justify-content: center;background-color: white;position: relative;}#sk-container-id-2 div.sk-item::before, #sk-container-id-2 div.sk-parallel-item::before {content: \"\";position: absolute;border-left: 1px solid gray;box-sizing: border-box;top: 0;bottom: 0;left: 50%;z-index: -1;}#sk-container-id-2 div.sk-parallel-item {display: flex;flex-direction: column;z-index: 1;position: relative;background-color: white;}#sk-container-id-2 div.sk-parallel-item:first-child::after {align-self: flex-end;width: 50%;}#sk-container-id-2 div.sk-parallel-item:last-child::after {align-self: flex-start;width: 50%;}#sk-container-id-2 div.sk-parallel-item:only-child::after {width: 0;}#sk-container-id-2 div.sk-dashed-wrapped {border: 1px dashed gray;margin: 0 0.4em 0.5em 0.4em;box-sizing: border-box;padding-bottom: 0.4em;background-color: white;}#sk-container-id-2 div.sk-label label {font-family: monospace;font-weight: bold;display: inline-block;line-height: 1.2em;}#sk-container-id-2 div.sk-label-container {text-align: center;}#sk-container-id-2 div.sk-container {/* jupyter's `normalize.less` sets `[hidden] { display: none; }` but bootstrap.min.css set `[hidden] { display: none !important; }` so we also need the `!important` here to be able to override the default hidden behavior on the sphinx rendered scikit-learn.org. See: https://github.com/scikit-learn/scikit-learn/issues/21755 */display: inline-block !important;position: relative;}#sk-container-id-2 div.sk-text-repr-fallback {display: none;}</style><div id=\"sk-container-id-2\" class=\"sk-top-container\"><div class=\"sk-text-repr-fallback\"><pre>DecisionTreeRegressor()</pre><b>In a Jupyter environment, please rerun this cell to show the HTML representation or trust the notebook. <br />On GitHub, the HTML representation is unable to render, please try loading this page with nbviewer.org.</b></div><div class=\"sk-container\" hidden><div class=\"sk-item\"><div class=\"sk-estimator sk-toggleable\"><input class=\"sk-toggleable__control sk-hidden--visually\" id=\"sk-estimator-id-2\" type=\"checkbox\" checked><label for=\"sk-estimator-id-2\" class=\"sk-toggleable__label sk-toggleable__label-arrow\">DecisionTreeRegressor</label><div class=\"sk-toggleable__content\"><pre>DecisionTreeRegressor()</pre></div></div></div></div></div>"
      ],
      "text/plain": [
       "DecisionTreeRegressor()"
      ]
     },
     "execution_count": 305,
     "metadata": {},
     "output_type": "execute_result"
    }
   ],
   "source": [
    "from sklearn.tree import DecisionTreeRegressor\n",
    "regressor_dt = DecisionTreeRegressor()\n",
    "regressor_dt.fit(X_train, y_train)"
   ]
  },
  {
   "cell_type": "code",
   "execution_count": 306,
   "id": "4b2cf8d4",
   "metadata": {},
   "outputs": [],
   "source": [
    "y_test_pred = regressor_dt.predict(X_test)"
   ]
  },
  {
   "cell_type": "code",
   "execution_count": 307,
   "id": "69695690",
   "metadata": {},
   "outputs": [
    {
     "data": {
      "text/html": [
       "<div>\n",
       "<style scoped>\n",
       "    .dataframe tbody tr th:only-of-type {\n",
       "        vertical-align: middle;\n",
       "    }\n",
       "\n",
       "    .dataframe tbody tr th {\n",
       "        vertical-align: top;\n",
       "    }\n",
       "\n",
       "    .dataframe thead th {\n",
       "        text-align: right;\n",
       "    }\n",
       "</style>\n",
       "<table border=\"1\" class=\"dataframe\">\n",
       "  <thead>\n",
       "    <tr style=\"text-align: right;\">\n",
       "      <th></th>\n",
       "      <th>Actual</th>\n",
       "      <th>Predicted</th>\n",
       "    </tr>\n",
       "  </thead>\n",
       "  <tbody>\n",
       "    <tr>\n",
       "      <th>76854</th>\n",
       "      <td>12816.04</td>\n",
       "      <td>11504.81</td>\n",
       "    </tr>\n",
       "    <tr>\n",
       "      <th>26508</th>\n",
       "      <td>29.70</td>\n",
       "      <td>17.82</td>\n",
       "    </tr>\n",
       "    <tr>\n",
       "      <th>65749</th>\n",
       "      <td>22492.00</td>\n",
       "      <td>23804.95</td>\n",
       "    </tr>\n",
       "    <tr>\n",
       "      <th>6837</th>\n",
       "      <td>2450.12</td>\n",
       "      <td>3532.72</td>\n",
       "    </tr>\n",
       "    <tr>\n",
       "      <th>8267</th>\n",
       "      <td>5047.11</td>\n",
       "      <td>3853.81</td>\n",
       "    </tr>\n",
       "  </tbody>\n",
       "</table>\n",
       "</div>"
      ],
      "text/plain": [
       "         Actual  Predicted\n",
       "76854  12816.04   11504.81\n",
       "26508     29.70      17.82\n",
       "65749  22492.00   23804.95\n",
       "6837    2450.12    3532.72\n",
       "8267    5047.11    3853.81"
      ]
     },
     "execution_count": 307,
     "metadata": {},
     "output_type": "execute_result"
    }
   ],
   "source": [
    "temp_df = pd.DataFrame({'Actual': y_test, 'Predicted': y_test_pred})\n",
    "#showing only 5 tuples\n",
    "temp_df.head()"
   ]
  },
  {
   "cell_type": "code",
   "execution_count": 308,
   "id": "9b6f6d7a",
   "metadata": {},
   "outputs": [
    {
     "name": "stdout",
     "output_type": "stream",
     "text": [
      "Mean Absolute Error:  2955.873513588464\n",
      "Mean Squared Error:  54475981.54164306\n",
      "Root Mean Squared Error:  7380.784615584109\n",
      "Mean Absolute percentage Error:  20.04748188102222\n",
      "R-Square is 0.9243303858729682\n"
     ]
    }
   ],
   "source": [
    "print('Mean Absolute Error: ', metrics.mean_absolute_error(y_test, y_test_pred))\n",
    "\n",
    "print('Mean Squared Error: ', metrics.mean_squared_error(y_test, y_test_pred))\n",
    "\n",
    "print('Root Mean Squared Error: ', np.sqrt(metrics.mean_squared_error(y_test, y_test_pred)))\n",
    "\n",
    "print('Mean Absolute percentage Error: ', metrics.mean_absolute_percentage_error(y_test, y_test_pred))\n",
    "\n",
    "print(\"R-Square is\",metrics.r2_score(y_test,y_test_pred))"
   ]
  },
  {
   "cell_type": "code",
   "execution_count": 309,
   "id": "eff7bb7c",
   "metadata": {},
   "outputs": [
    {
     "data": {
      "image/png": "[encoded data removed]",
      "text/plain": [
       "<Figure size 640x480 with 1 Axes>"
      ]
     },
     "metadata": {},
     "output_type": "display_data"
    }
   ],
   "source": [
    "models = [regressor, lasso, ridge, regressor_knn, regressor_dt]#storing all models in the list\n",
    "names = [\"Linear Regression\", \"Lasso Regression\", \"Ridge Regression\", \n",
    "         \"KNN Regressor\",\"Decision Tree regressor\"]#storing models names in the list\n",
    "r2 = []#list to store the r2scores\n",
    "\n",
    "for model in models:\n",
    "    r2.append( (metrics.r2_score(y_test, model.predict(X_test)))) # append into the r2 values list\n",
    "\n",
    "plt.plot(names,r2,'b-o',label='Accuracy over Different models');#plotting r2 with the line graph\n",
    "plt.xticks(rotation=90,ha='right')#marking xticks with the model names\n",
    "plt.xlabel('Modal')#labelling x axis\n",
    "plt.ylabel('Accuracy')#labelling y axis\n",
    "\n",
    "plt.show()#for showing the plot"
   ]
  },
  {
   "cell_type": "markdown",
   "id": "03d16709",
   "metadata": {},
   "source": [
    "## Decision tree Regressor is the best model fitted for the dataset with 0.90 R2 error"
   ]
  },
  {
   "cell_type": "markdown",
   "id": "58f1f8cf",
   "metadata": {},
   "source": [
    "# Pickeling the model"
   ]
  },
  {
   "cell_type": "code",
   "execution_count": 310,
   "id": "9856e83a",
   "metadata": {},
   "outputs": [],
   "source": [
    "pickle.dump(regressor_dt,open('regmodel.pkl','wb'))"
   ]
  },
  {
   "cell_type": "code",
   "execution_count": 311,
   "id": "f4469a1e",
   "metadata": {},
   "outputs": [],
   "source": [
    "model=pickle.load(open('regmodel.pkl','rb'))"
   ]
  },
  {
   "cell_type": "code",
   "execution_count": 312,
   "id": "9252c0b0",
   "metadata": {},
   "outputs": [],
   "source": [
    "pred=X_test.head(1)"
   ]
  },
  {
   "cell_type": "code",
   "execution_count": 313,
   "id": "023e7990",
   "metadata": {},
   "outputs": [
    {
     "data": {
      "text/plain": [
       "array([11504.81])"
      ]
     },
     "execution_count": 313,
     "metadata": {},
     "output_type": "execute_result"
    }
   ],
   "source": [
    "model.predict(pred)"
   ]
  },
  {
   "cell_type": "code",
   "execution_count": 314,
   "id": "f207c08b",
   "metadata": {},
   "outputs": [
    {
     "data": {
      "text/plain": [
       "76854    12816.04\n",
       "Name: Weekly_Sales, dtype: float64"
      ]
     },
     "execution_count": 314,
     "metadata": {},
     "output_type": "execute_result"
    }
   ],
   "source": [
    "y_test.head(1)"
   ]
  },
  {
   "cell_type": "code",
   "execution_count": null,
   "id": "eb0c2522",
   "metadata": {},
   "outputs": [],
   "source": []
  },
  {
   "cell_type": "code",
   "execution_count": null,
   "id": "cd427bd8",
   "metadata": {},
   "outputs": [],
   "source": []
  },
  {
   "cell_type": "code",
   "execution_count": null,
   "id": "758764eb",
   "metadata": {},
   "outputs": [],
   "source": []
  },
  {
   "cell_type": "code",
   "execution_count": null,
   "id": "d12d2577",
   "metadata": {},
   "outputs": [],
   "source": []
  }
 ],
 "metadata": {
  "kernelspec": {
   "display_name": "Python 3 (ipykernel)",
   "language": "python",
   "name": "python3"
  },
  "language_info": {
   "codemirror_mode": {
    "name": "ipython",
    "version": 3
   },
   "file_extension": ".py",
   "mimetype": "text/x-python",
   "name": "python",
   "nbconvert_exporter": "python",
   "pygments_lexer": "ipython3",
   "version": "3.10.9"
  }
 },
 "nbformat": 4,
 "nbformat_minor": 5
}
